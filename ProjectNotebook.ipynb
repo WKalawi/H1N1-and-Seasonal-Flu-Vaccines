{
 "cells": [
  {
   "cell_type": "markdown",
   "metadata": {},
   "source": [
    "## **H1N1 AND SEASONAL FLU VACCINES**\n"
   ]
  },
  {
   "cell_type": "markdown",
   "metadata": {},
   "source": [
    "**Author:** [Wallace Ouma](https://github.com/WKalawi)\n",
    "***"
   ]
  },
  {
   "cell_type": "markdown",
   "metadata": {},
   "source": [
    "## Business and Data Understanding\n",
    "\n",
    "Data Source: [DrivenData](https://www.drivendata.org/competitions/66/flu-shot-learning/)\n",
    "\n",
    "This project focuses on vaccination, a crucial public health strategy against infectious diseases, providing individuals with immunization and contributing to \"herd immunity\" when sufficiently prevalent within a community. While vaccines for COVID-19 are still in development at the time of this competition's launch, we will instead examine the public health response to a recent significant respiratory disease pandemic. Originating in spring 2009, the H1N1 influenza virus, commonly known as \"swine flu,\" rapidly spread worldwide, causing a pandemic. Estimates suggest this virus led to between 151,000 to 575,000 deaths globally within its first year. A vaccine for H1N1 became available to the public in October 2009. Concurrently, the United States conducted the National 2009 H1N1 Flu Survey in late 2009 and early 2010, a phone survey querying respondents about their H1N1 and seasonal flu vaccine uptake alongside various personal details. These included social, economic, and demographic backgrounds, perceptions regarding illness and vaccine efficacy risks, and behaviors related to transmission prevention. Understanding how these factors interrelate with individual vaccination behavior can offer valuable insights for future public health strategies.\n",
    "\n",
    "In this evaluation, the target variable pertains to whether an individual will voluntarily receive either an influenza or H1N1 vaccine, as indicated by past data randomly gathered from households across the United States. This data collection was conducted through random-digit-dialing of telephones within these households. Two distinct target variables exist: one for the H1N1 vaccine and another for the Seasonal Flu vaccine. These target variables are already clearly defined and binary, simplifying the preprocessing process. Given that the dataset is comprehensive, this evaluation will be approached as a supervised learning experience."
   ]
  },
  {
   "cell_type": "markdown",
   "metadata": {},
   "source": [
    "## Exploratory Data Analysis\n",
    "***\n",
    "\n",
    "**Import Data and Explore Features**"
   ]
  },
  {
   "cell_type": "code",
   "execution_count": 1,
   "metadata": {},
   "outputs": [],
   "source": [
    "#Import warning\n",
    "import warnings\n",
    "warnings.filterwarnings('ignore')\n",
    "\n",
    "#Import Libraries\n",
    "import pandas as pd\n",
    "import numpy as np\n",
    "import matplotlib.pyplot as plt\n",
    "import seaborn as sns\n",
    "%matplotlib inline"
   ]
  },
  {
   "cell_type": "code",
   "execution_count": 2,
   "metadata": {},
   "outputs": [
    {
     "data": {
      "text/html": [
       "<div>\n",
       "<style scoped>\n",
       "    .dataframe tbody tr th:only-of-type {\n",
       "        vertical-align: middle;\n",
       "    }\n",
       "\n",
       "    .dataframe tbody tr th {\n",
       "        vertical-align: top;\n",
       "    }\n",
       "\n",
       "    .dataframe thead th {\n",
       "        text-align: right;\n",
       "    }\n",
       "</style>\n",
       "<table border=\"1\" class=\"dataframe\">\n",
       "  <thead>\n",
       "    <tr style=\"text-align: right;\">\n",
       "      <th></th>\n",
       "      <th>respondent_id</th>\n",
       "      <th>h1n1_concern</th>\n",
       "      <th>h1n1_knowledge</th>\n",
       "      <th>behavioral_antiviral_meds</th>\n",
       "      <th>behavioral_avoidance</th>\n",
       "      <th>behavioral_face_mask</th>\n",
       "      <th>behavioral_wash_hands</th>\n",
       "      <th>behavioral_large_gatherings</th>\n",
       "      <th>behavioral_outside_home</th>\n",
       "      <th>behavioral_touch_face</th>\n",
       "      <th>...</th>\n",
       "      <th>rent_or_own</th>\n",
       "      <th>employment_status</th>\n",
       "      <th>hhs_geo_region</th>\n",
       "      <th>census_msa</th>\n",
       "      <th>household_adults</th>\n",
       "      <th>household_children</th>\n",
       "      <th>employment_industry</th>\n",
       "      <th>employment_occupation</th>\n",
       "      <th>h1n1_vaccine</th>\n",
       "      <th>seasonal_vaccine</th>\n",
       "    </tr>\n",
       "  </thead>\n",
       "  <tbody>\n",
       "    <tr>\n",
       "      <th>0</th>\n",
       "      <td>0</td>\n",
       "      <td>1.0</td>\n",
       "      <td>0.0</td>\n",
       "      <td>0.0</td>\n",
       "      <td>0.0</td>\n",
       "      <td>0.0</td>\n",
       "      <td>0.0</td>\n",
       "      <td>0.0</td>\n",
       "      <td>1.0</td>\n",
       "      <td>1.0</td>\n",
       "      <td>...</td>\n",
       "      <td>Own</td>\n",
       "      <td>Not in Labor Force</td>\n",
       "      <td>oxchjgsf</td>\n",
       "      <td>Non-MSA</td>\n",
       "      <td>0.0</td>\n",
       "      <td>0.0</td>\n",
       "      <td>NaN</td>\n",
       "      <td>NaN</td>\n",
       "      <td>0</td>\n",
       "      <td>0</td>\n",
       "    </tr>\n",
       "    <tr>\n",
       "      <th>1</th>\n",
       "      <td>1</td>\n",
       "      <td>3.0</td>\n",
       "      <td>2.0</td>\n",
       "      <td>0.0</td>\n",
       "      <td>1.0</td>\n",
       "      <td>0.0</td>\n",
       "      <td>1.0</td>\n",
       "      <td>0.0</td>\n",
       "      <td>1.0</td>\n",
       "      <td>1.0</td>\n",
       "      <td>...</td>\n",
       "      <td>Rent</td>\n",
       "      <td>Employed</td>\n",
       "      <td>bhuqouqj</td>\n",
       "      <td>MSA, Not Principle  City</td>\n",
       "      <td>0.0</td>\n",
       "      <td>0.0</td>\n",
       "      <td>pxcmvdjn</td>\n",
       "      <td>xgwztkwe</td>\n",
       "      <td>0</td>\n",
       "      <td>1</td>\n",
       "    </tr>\n",
       "    <tr>\n",
       "      <th>2</th>\n",
       "      <td>2</td>\n",
       "      <td>1.0</td>\n",
       "      <td>1.0</td>\n",
       "      <td>0.0</td>\n",
       "      <td>1.0</td>\n",
       "      <td>0.0</td>\n",
       "      <td>0.0</td>\n",
       "      <td>0.0</td>\n",
       "      <td>0.0</td>\n",
       "      <td>0.0</td>\n",
       "      <td>...</td>\n",
       "      <td>Own</td>\n",
       "      <td>Employed</td>\n",
       "      <td>qufhixun</td>\n",
       "      <td>MSA, Not Principle  City</td>\n",
       "      <td>2.0</td>\n",
       "      <td>0.0</td>\n",
       "      <td>rucpziij</td>\n",
       "      <td>xtkaffoo</td>\n",
       "      <td>0</td>\n",
       "      <td>0</td>\n",
       "    </tr>\n",
       "    <tr>\n",
       "      <th>3</th>\n",
       "      <td>3</td>\n",
       "      <td>1.0</td>\n",
       "      <td>1.0</td>\n",
       "      <td>0.0</td>\n",
       "      <td>1.0</td>\n",
       "      <td>0.0</td>\n",
       "      <td>1.0</td>\n",
       "      <td>1.0</td>\n",
       "      <td>0.0</td>\n",
       "      <td>0.0</td>\n",
       "      <td>...</td>\n",
       "      <td>Rent</td>\n",
       "      <td>Not in Labor Force</td>\n",
       "      <td>lrircsnp</td>\n",
       "      <td>MSA, Principle City</td>\n",
       "      <td>0.0</td>\n",
       "      <td>0.0</td>\n",
       "      <td>NaN</td>\n",
       "      <td>NaN</td>\n",
       "      <td>0</td>\n",
       "      <td>1</td>\n",
       "    </tr>\n",
       "    <tr>\n",
       "      <th>4</th>\n",
       "      <td>4</td>\n",
       "      <td>2.0</td>\n",
       "      <td>1.0</td>\n",
       "      <td>0.0</td>\n",
       "      <td>1.0</td>\n",
       "      <td>0.0</td>\n",
       "      <td>1.0</td>\n",
       "      <td>1.0</td>\n",
       "      <td>0.0</td>\n",
       "      <td>1.0</td>\n",
       "      <td>...</td>\n",
       "      <td>Own</td>\n",
       "      <td>Employed</td>\n",
       "      <td>qufhixun</td>\n",
       "      <td>MSA, Not Principle  City</td>\n",
       "      <td>1.0</td>\n",
       "      <td>0.0</td>\n",
       "      <td>wxleyezf</td>\n",
       "      <td>emcorrxb</td>\n",
       "      <td>0</td>\n",
       "      <td>0</td>\n",
       "    </tr>\n",
       "  </tbody>\n",
       "</table>\n",
       "<p>5 rows × 38 columns</p>\n",
       "</div>"
      ],
      "text/plain": [
       "   respondent_id  h1n1_concern  h1n1_knowledge  behavioral_antiviral_meds  \\\n",
       "0              0           1.0             0.0                        0.0   \n",
       "1              1           3.0             2.0                        0.0   \n",
       "2              2           1.0             1.0                        0.0   \n",
       "3              3           1.0             1.0                        0.0   \n",
       "4              4           2.0             1.0                        0.0   \n",
       "\n",
       "   behavioral_avoidance  behavioral_face_mask  behavioral_wash_hands  \\\n",
       "0                   0.0                   0.0                    0.0   \n",
       "1                   1.0                   0.0                    1.0   \n",
       "2                   1.0                   0.0                    0.0   \n",
       "3                   1.0                   0.0                    1.0   \n",
       "4                   1.0                   0.0                    1.0   \n",
       "\n",
       "   behavioral_large_gatherings  behavioral_outside_home  \\\n",
       "0                          0.0                      1.0   \n",
       "1                          0.0                      1.0   \n",
       "2                          0.0                      0.0   \n",
       "3                          1.0                      0.0   \n",
       "4                          1.0                      0.0   \n",
       "\n",
       "   behavioral_touch_face  ...  rent_or_own   employment_status  \\\n",
       "0                    1.0  ...          Own  Not in Labor Force   \n",
       "1                    1.0  ...         Rent            Employed   \n",
       "2                    0.0  ...          Own            Employed   \n",
       "3                    0.0  ...         Rent  Not in Labor Force   \n",
       "4                    1.0  ...          Own            Employed   \n",
       "\n",
       "   hhs_geo_region                census_msa  household_adults  \\\n",
       "0        oxchjgsf                   Non-MSA               0.0   \n",
       "1        bhuqouqj  MSA, Not Principle  City               0.0   \n",
       "2        qufhixun  MSA, Not Principle  City               2.0   \n",
       "3        lrircsnp       MSA, Principle City               0.0   \n",
       "4        qufhixun  MSA, Not Principle  City               1.0   \n",
       "\n",
       "   household_children  employment_industry  employment_occupation  \\\n",
       "0                 0.0                  NaN                    NaN   \n",
       "1                 0.0             pxcmvdjn               xgwztkwe   \n",
       "2                 0.0             rucpziij               xtkaffoo   \n",
       "3                 0.0                  NaN                    NaN   \n",
       "4                 0.0             wxleyezf               emcorrxb   \n",
       "\n",
       "   h1n1_vaccine  seasonal_vaccine  \n",
       "0             0                 0  \n",
       "1             0                 1  \n",
       "2             0                 0  \n",
       "3             0                 1  \n",
       "4             0                 0  \n",
       "\n",
       "[5 rows x 38 columns]"
      ]
     },
     "execution_count": 2,
     "metadata": {},
     "output_type": "execute_result"
    }
   ],
   "source": [
    "# Read the CSV files\n",
    "training_labels = pd.read_csv('Datasets/training_set_labels.csv')\n",
    "training_features = pd.read_csv('Datasets/training_set_features.csv')\n",
    "\n",
    "# Merge the DataFrames on the common column 'respondent ID'\n",
    "df = pd.merge(training_features,training_labels, on='respondent_id', how='inner')\n",
    "\n",
    "# Write the merged DataFrame to a new CSV file\n",
    "df.to_csv('Datasets/training_set.csv', index = False)\n",
    "\n",
    "df.head()"
   ]
  },
  {
   "cell_type": "code",
   "execution_count": 3,
   "metadata": {},
   "outputs": [
    {
     "data": {
      "text/plain": [
       "(26707, 38)"
      ]
     },
     "execution_count": 3,
     "metadata": {},
     "output_type": "execute_result"
    }
   ],
   "source": [
    "df.shape"
   ]
  },
  {
   "cell_type": "code",
   "execution_count": 4,
   "metadata": {},
   "outputs": [
    {
     "data": {
      "text/plain": [
       "respondent_id                    int64\n",
       "h1n1_concern                   float64\n",
       "h1n1_knowledge                 float64\n",
       "behavioral_antiviral_meds      float64\n",
       "behavioral_avoidance           float64\n",
       "behavioral_face_mask           float64\n",
       "behavioral_wash_hands          float64\n",
       "behavioral_large_gatherings    float64\n",
       "behavioral_outside_home        float64\n",
       "behavioral_touch_face          float64\n",
       "doctor_recc_h1n1               float64\n",
       "doctor_recc_seasonal           float64\n",
       "chronic_med_condition          float64\n",
       "child_under_6_months           float64\n",
       "health_worker                  float64\n",
       "health_insurance               float64\n",
       "opinion_h1n1_vacc_effective    float64\n",
       "opinion_h1n1_risk              float64\n",
       "opinion_h1n1_sick_from_vacc    float64\n",
       "opinion_seas_vacc_effective    float64\n",
       "opinion_seas_risk              float64\n",
       "opinion_seas_sick_from_vacc    float64\n",
       "age_group                       object\n",
       "education                       object\n",
       "race                            object\n",
       "sex                             object\n",
       "income_poverty                  object\n",
       "marital_status                  object\n",
       "rent_or_own                     object\n",
       "employment_status               object\n",
       "hhs_geo_region                  object\n",
       "census_msa                      object\n",
       "household_adults               float64\n",
       "household_children             float64\n",
       "employment_industry             object\n",
       "employment_occupation           object\n",
       "h1n1_vaccine                     int64\n",
       "seasonal_vaccine                 int64\n",
       "dtype: object"
      ]
     },
     "execution_count": 4,
     "metadata": {},
     "output_type": "execute_result"
    }
   ],
   "source": [
    "#Inspecting the data tyoes in the dataset\n",
    "df.dtypes  "
   ]
  },
  {
   "cell_type": "code",
   "execution_count": 5,
   "metadata": {},
   "outputs": [
    {
     "data": {
      "text/plain": [
       "respondent_id                      0\n",
       "h1n1_concern                      92\n",
       "h1n1_knowledge                   116\n",
       "behavioral_antiviral_meds         71\n",
       "behavioral_avoidance             208\n",
       "behavioral_face_mask              19\n",
       "behavioral_wash_hands             42\n",
       "behavioral_large_gatherings       87\n",
       "behavioral_outside_home           82\n",
       "behavioral_touch_face            128\n",
       "doctor_recc_h1n1                2160\n",
       "doctor_recc_seasonal            2160\n",
       "chronic_med_condition            971\n",
       "child_under_6_months             820\n",
       "health_worker                    804\n",
       "health_insurance               12274\n",
       "opinion_h1n1_vacc_effective      391\n",
       "opinion_h1n1_risk                388\n",
       "opinion_h1n1_sick_from_vacc      395\n",
       "opinion_seas_vacc_effective      462\n",
       "opinion_seas_risk                514\n",
       "opinion_seas_sick_from_vacc      537\n",
       "age_group                          0\n",
       "education                       1407\n",
       "race                               0\n",
       "sex                                0\n",
       "income_poverty                  4423\n",
       "marital_status                  1408\n",
       "rent_or_own                     2042\n",
       "employment_status               1463\n",
       "hhs_geo_region                     0\n",
       "census_msa                         0\n",
       "household_adults                 249\n",
       "household_children               249\n",
       "employment_industry            13330\n",
       "employment_occupation          13470\n",
       "h1n1_vaccine                       0\n",
       "seasonal_vaccine                   0\n",
       "dtype: int64"
      ]
     },
     "execution_count": 5,
     "metadata": {},
     "output_type": "execute_result"
    }
   ],
   "source": [
    "# Check for missing values in the DataFrame and sum them up\n",
    "df.isnull().sum()"
   ]
  },
  {
   "cell_type": "markdown",
   "metadata": {},
   "source": [
    "**Target Variables**\n",
    "\n",
    "***Seasonal Flu Vaccine***\n"
   ]
  },
  {
   "cell_type": "code",
   "execution_count": 6,
   "metadata": {},
   "outputs": [
    {
     "data": {
      "text/plain": [
       "seasonal_vaccine\n",
       "0    14272\n",
       "1    12435\n",
       "Name: count, dtype: int64"
      ]
     },
     "execution_count": 6,
     "metadata": {},
     "output_type": "execute_result"
    }
   ],
   "source": [
    "# Count the number of occurrences of each unique value in the 'seasonal_vaccine' column\n",
    "df['seasonal_vaccine'].value_counts()\n"
   ]
  },
  {
   "cell_type": "code",
   "execution_count": 7,
   "metadata": {},
   "outputs": [
    {
     "data": {
      "image/png": "[encoded data removed]",
      "text/plain": [
       "<Figure size 300x300 with 1 Axes>"
      ]
     },
     "metadata": {},
     "output_type": "display_data"
    }
   ],
   "source": [
    "# Count the number of occurrences of each unique value in the 'seasonal_vaccine' column\n",
    "temp = df[\"seasonal_vaccine\"].value_counts()\n",
    "\n",
    "# Create a DataFrame to store the counts\n",
    "dfflubal = pd.DataFrame({'seasonal_vaccine': temp.index,'values': temp.values})\n",
    "\n",
    "# Create a bar plot to visualize the counts\n",
    "plt.figure(figsize = (3,3))\n",
    "sns.barplot(x = 'seasonal_vaccine', y=\"values\", data=dfflubal)\n",
    "plt.show()\n"
   ]
  },
  {
   "cell_type": "markdown",
   "metadata": {},
   "source": [
    "The count of individuals who received the flu shot is almost equivalent to those who didn't. This balance contrasts with the considerable difference seen in the recipients of the `H1N1 vaccine`."
   ]
  },
  {
   "cell_type": "markdown",
   "metadata": {},
   "source": [
    "***H1N1 Vaccine***"
   ]
  },
  {
   "cell_type": "code",
   "execution_count": 8,
   "metadata": {},
   "outputs": [
    {
     "data": {
      "text/plain": [
       "h1n1_vaccine\n",
       "0    21033\n",
       "1     5674\n",
       "Name: count, dtype: int64"
      ]
     },
     "execution_count": 8,
     "metadata": {},
     "output_type": "execute_result"
    }
   ],
   "source": [
    "# Count the number of occurrences of each unique value in the 'h1n1_vaccine' column\n",
    "df['h1n1_vaccine'].value_counts()"
   ]
  },
  {
   "cell_type": "code",
   "execution_count": 9,
   "metadata": {},
   "outputs": [
    {
     "data": {
      "image/png": "[encoded data removed]",
      "text/plain": [
       "<Figure size 300x300 with 1 Axes>"
      ]
     },
     "metadata": {},
     "output_type": "display_data"
    }
   ],
   "source": [
    "# Count the number of occurrences of each unique value in the 'h1n1_vaccine' column\n",
    "temp = df[\"h1n1_vaccine\"].value_counts()\n",
    "\n",
    "# Create a DataFrame to store the counts\n",
    "dfh1n1bal = pd.DataFrame({'h1n1_vaccine': temp.index,'values': temp.values})\n",
    "\n",
    "# Create a bar plot to visualize the counts\n",
    "plt.figure(figsize = (3,3))\n",
    "sns.barplot(x = 'h1n1_vaccine', y=\"values\", data=dfh1n1bal)\n",
    "plt.show()\n"
   ]
  },
  {
   "cell_type": "markdown",
   "metadata": {},
   "source": [
    "The difference in the number of individuals who received the `H1N1 vaccine` compared to those who did not is significant. The number of individuals who did not receive the vaccine is nearly four times greater than those who did. To accurately assess this situation, we should consider alternative metrics instead of relying solely on conventional averages."
   ]
  },
  {
   "cell_type": "markdown",
   "metadata": {},
   "source": [
    "**Null Values**"
   ]
  },
  {
   "cell_type": "code",
   "execution_count": 10,
   "metadata": {},
   "outputs": [],
   "source": [
    "# Iterate through each column in the DataFrame\n",
    "for column in df.columns:\n",
    "    # Replace missing values in the current column with the most frequent value\n",
    "    df[column].fillna(df[column].mode()[0], inplace=True)"
   ]
  },
  {
   "cell_type": "code",
   "execution_count": 11,
   "metadata": {},
   "outputs": [
    {
     "data": {
      "text/plain": [
       "(26707, 38)"
      ]
     },
     "execution_count": 11,
     "metadata": {},
     "output_type": "execute_result"
    }
   ],
   "source": [
    "# Retrieve the new shape of the DataFrame\n",
    "df.shape"
   ]
  },
  {
   "cell_type": "code",
   "execution_count": 12,
   "metadata": {},
   "outputs": [
    {
     "data": {
      "text/plain": [
       "respondent_id                  0\n",
       "h1n1_concern                   0\n",
       "h1n1_knowledge                 0\n",
       "behavioral_antiviral_meds      0\n",
       "behavioral_avoidance           0\n",
       "behavioral_face_mask           0\n",
       "behavioral_wash_hands          0\n",
       "behavioral_large_gatherings    0\n",
       "behavioral_outside_home        0\n",
       "behavioral_touch_face          0\n",
       "doctor_recc_h1n1               0\n",
       "doctor_recc_seasonal           0\n",
       "chronic_med_condition          0\n",
       "child_under_6_months           0\n",
       "health_worker                  0\n",
       "health_insurance               0\n",
       "opinion_h1n1_vacc_effective    0\n",
       "opinion_h1n1_risk              0\n",
       "opinion_h1n1_sick_from_vacc    0\n",
       "opinion_seas_vacc_effective    0\n",
       "opinion_seas_risk              0\n",
       "opinion_seas_sick_from_vacc    0\n",
       "age_group                      0\n",
       "education                      0\n",
       "race                           0\n",
       "sex                            0\n",
       "income_poverty                 0\n",
       "marital_status                 0\n",
       "rent_or_own                    0\n",
       "employment_status              0\n",
       "hhs_geo_region                 0\n",
       "census_msa                     0\n",
       "household_adults               0\n",
       "household_children             0\n",
       "employment_industry            0\n",
       "employment_occupation          0\n",
       "h1n1_vaccine                   0\n",
       "seasonal_vaccine               0\n",
       "dtype: int64"
      ]
     },
     "execution_count": 12,
     "metadata": {},
     "output_type": "execute_result"
    }
   ],
   "source": [
    "# Recheck for missing values in the DataFrame and sum them up\n",
    "df.isnull().sum()\n"
   ]
  },
  {
   "cell_type": "markdown",
   "metadata": {},
   "source": [
    "In examining the dataset, it becomes evident that several features, including `health_insurance`, `income_poverty`, `employment_industry`, and `employment_occupation`, contain significant amounts of missing values. Notably, there seems to be a potential correlation between `employment_industry` and `employment_occupation`, likely due to their similar nature. For now, the analysis will proceed without these variables. However, it's essential to acknowledge that their absence might impact the model's accuracy. Should the model's performance suffer, a reevaluation of these features will be necessary to determine suitable replacement values. Despite these omissions, the dataset still retains numerous other features without null values, which will be the basis for evaluation.\n",
    "\n",
    "By initially excluding the features with substantial null values, the analysis aims to mitigate potential biases introduced by incomplete data. This approach allows for a focused examination of the dataset's remaining 32 features, providing insights into their individual contributions to the model's predictive capabilities. However, it's crucial to remain vigilant throughout the analysis process, as the exclusion of certain variables may inadvertently overlook valuable information. Regular reassessment and refinement of the modeling strategy will be essential to ensure a comprehensive understanding of the dataset and accurate predictions."
   ]
  },
  {
   "cell_type": "markdown",
   "metadata": {},
   "source": [
    "**Feature Engineering for Variable Exploration**"
   ]
  },
  {
   "cell_type": "markdown",
   "metadata": {},
   "source": [
    "In this section, variables previously categorized as \"object\" will be coded into integers. The aim is to convert categorical responses into numerical ones, facilitating their more intuitive utilization."
   ]
  },
  {
   "cell_type": "code",
   "execution_count": 13,
   "metadata": {},
   "outputs": [],
   "source": [
    "# Convert age groups from categorical to numerical values\n",
    "# Assigning numerical values to each age group for better representation\n",
    "df.age_group[df.age_group == '18 - 34 Years'] = 1\n",
    "df.age_group[df.age_group == '35 - 44 Years'] = 2\n",
    "df.age_group[df.age_group == '45 - 54 Years'] = 3\n",
    "df.age_group[df.age_group == '55 - 64 Years'] = 4\n",
    "df.age_group[df.age_group == '65+ Years'] = 5\n",
    "\n",
    "# Convert the 'age_group' column to integer type\n",
    "df.age_group = df.age_group.astype(int)\n"
   ]
  },
  {
   "cell_type": "code",
   "execution_count": 14,
   "metadata": {},
   "outputs": [],
   "source": [
    "# Convert education levels from categorical to numerical values\n",
    "# Assigning numerical values to each education level for better representation\n",
    "df.education[df.education == '< 12 Years'] = 1\n",
    "df.education[df.education == '12 Years'] = 2\n",
    "df.education[df.education == 'College Graduate'] = 3\n",
    "df.education[df.education == 'Some College'] = 4\n",
    "\n",
    "# Convert the 'education' column to integer type\n",
    "df.education = df.education.astype(int)\n"
   ]
  },
  {
   "cell_type": "code",
   "execution_count": 15,
   "metadata": {},
   "outputs": [],
   "source": [
    "# Convert race categories from categorical to numerical values\n",
    "# Assigning numerical values to each race category for better representation\n",
    "df.race[df.race == 'Black'] = 1\n",
    "df.race[df.race == 'Hispanic'] = 2\n",
    "df.race[df.race == 'Other or Multiple'] = 3\n",
    "df.race[df.race == 'White'] = 4\n",
    "\n",
    "# Convert the 'race' column to integer type\n",
    "df.race = df.race.astype(int)\n"
   ]
  },
  {
   "cell_type": "code",
   "execution_count": 16,
   "metadata": {},
   "outputs": [],
   "source": [
    "# Convert gender categories from categorical to numerical values\n",
    "# Assigning numerical values to each gender category for better representation\n",
    "df.sex[df.sex == 'Female'] = 0\n",
    "df.sex[df.sex == 'Male'] = 1\n",
    "\n",
    "# Convert the 'sex' column to integer type\n",
    "df.sex = df.sex.astype(int)\n"
   ]
  },
  {
   "cell_type": "code",
   "execution_count": 17,
   "metadata": {},
   "outputs": [],
   "source": [
    "# Convert marital status categories from categorical to numerical values\n",
    "# Assigning numerical values to each marital status category for better representation\n",
    "df.marital_status[df.marital_status == 'Married'] = 0\n",
    "df.marital_status[df.marital_status == 'Not Married'] = 1\n",
    "\n",
    "# Convert the 'marital_status' column to integer type\n",
    "df.marital_status = df.marital_status.astype(int)\n"
   ]
  },
  {
   "cell_type": "code",
   "execution_count": 18,
   "metadata": {},
   "outputs": [],
   "source": [
    "# Convert housing status categories from categorical to numerical values\n",
    "# Assigning numerical values to each housing status category for better representation\n",
    "df.rent_or_own[df.rent_or_own == 'Rent'] = 0\n",
    "df.rent_or_own[df.rent_or_own == 'Own'] = 1\n",
    "\n",
    "# Convert the 'rent_or_own' column to integer type\n",
    "df.rent_or_own = df.rent_or_own.astype(int)\n"
   ]
  },
  {
   "cell_type": "code",
   "execution_count": 19,
   "metadata": {},
   "outputs": [],
   "source": [
    "# Convert employment status categories from categorical to numerical values\n",
    "# Assigning numerical values to each employment status category for better representation\n",
    "df.employment_status[df.employment_status == 'Employed'] = 1\n",
    "df.employment_status[df.employment_status == 'Not in Labor Force'] = 2\n",
    "df.employment_status[df.employment_status == 'Unemployed'] = 3\n",
    "\n",
    "# Convert the 'employment_status' column to integer type\n",
    "df.employment_status = df.employment_status.astype(int)\n"
   ]
  },
  {
   "cell_type": "code",
   "execution_count": 20,
   "metadata": {},
   "outputs": [],
   "source": [
    "# Convert HHS geographic regions from categorical to numerical values\n",
    "# Assigning numerical values to each HHS geographic region for better representation\n",
    "df.hhs_geo_region[df.hhs_geo_region == 'atmpeygn'] = 1\n",
    "df.hhs_geo_region[df.hhs_geo_region == 'bhuqouqj'] = 2\n",
    "df.hhs_geo_region[df.hhs_geo_region == 'dqpwygqj'] = 3\n",
    "df.hhs_geo_region[df.hhs_geo_region == 'fpwskwrf'] = 4\n",
    "df.hhs_geo_region[df.hhs_geo_region == 'kbazzjca'] = 5\n",
    "df.hhs_geo_region[df.hhs_geo_region == 'lrircsnp'] = 6\n",
    "df.hhs_geo_region[df.hhs_geo_region == 'lzgpxyit'] = 7\n",
    "df.hhs_geo_region[df.hhs_geo_region == 'mlyzmhmf'] = 8\n",
    "df.hhs_geo_region[df.hhs_geo_region == 'oxchjgsf'] = 9\n",
    "df.hhs_geo_region[df.hhs_geo_region == 'qufhixun'] = 10\n",
    "\n",
    "# Convert the 'hhs_geo_region' column to integer type\n",
    "df.hhs_geo_region = df.hhs_geo_region.astype(int)\n"
   ]
  },
  {
   "cell_type": "code",
   "execution_count": 21,
   "metadata": {},
   "outputs": [],
   "source": [
    "# Convert Census MSA categories from categorical to numerical values\n",
    "# Assigning numerical values to each Census MSA category for better representation\n",
    "df.census_msa[df.census_msa == 'MSA, Not Principle  City'] = 1\n",
    "df.census_msa[df.census_msa == 'MSA, Principle City'] = 2\n",
    "df.census_msa[df.census_msa == 'Non-MSA'] = 3\n",
    "\n",
    "# Convert the 'census_msa' column to integer type\n",
    "df.census_msa = df.census_msa.astype(int)\n"
   ]
  },
  {
   "cell_type": "code",
   "execution_count": 22,
   "metadata": {},
   "outputs": [
    {
     "data": {
      "text/plain": [
       "respondent_id                    int64\n",
       "h1n1_concern                   float64\n",
       "h1n1_knowledge                 float64\n",
       "behavioral_antiviral_meds      float64\n",
       "behavioral_avoidance           float64\n",
       "behavioral_face_mask           float64\n",
       "behavioral_wash_hands          float64\n",
       "behavioral_large_gatherings    float64\n",
       "behavioral_outside_home        float64\n",
       "behavioral_touch_face          float64\n",
       "doctor_recc_h1n1               float64\n",
       "doctor_recc_seasonal           float64\n",
       "chronic_med_condition          float64\n",
       "child_under_6_months           float64\n",
       "health_worker                  float64\n",
       "health_insurance               float64\n",
       "opinion_h1n1_vacc_effective    float64\n",
       "opinion_h1n1_risk              float64\n",
       "opinion_h1n1_sick_from_vacc    float64\n",
       "opinion_seas_vacc_effective    float64\n",
       "opinion_seas_risk              float64\n",
       "opinion_seas_sick_from_vacc    float64\n",
       "age_group                        int32\n",
       "education                        int32\n",
       "race                             int32\n",
       "sex                              int32\n",
       "income_poverty                  object\n",
       "marital_status                   int32\n",
       "rent_or_own                      int32\n",
       "employment_status                int32\n",
       "hhs_geo_region                   int32\n",
       "census_msa                       int32\n",
       "household_adults               float64\n",
       "household_children             float64\n",
       "employment_industry             object\n",
       "employment_occupation           object\n",
       "h1n1_vaccine                     int64\n",
       "seasonal_vaccine                 int64\n",
       "dtype: object"
      ]
     },
     "execution_count": 22,
     "metadata": {},
     "output_type": "execute_result"
    }
   ],
   "source": [
    "df.dtypes"
   ]
  },
  {
   "cell_type": "markdown",
   "metadata": {},
   "source": [
    "**Outlier Detection**"
   ]
  },
  {
   "cell_type": "code",
   "execution_count": 23,
   "metadata": {},
   "outputs": [],
   "source": [
    "# Grouping numeric columns into separate lists for easier manipulation\n",
    "num_cols1 = ['h1n1_concern', 'h1n1_knowledge', 'behavioral_antiviral_meds', 'behavioral_avoidance', 'behavioral_face_mask']\n",
    "num_cols2 = ['behavioral_wash_hands', 'behavioral_large_gatherings', 'behavioral_outside_home', 'behavioral_touch_face', 'doctor_recc_h1n1']\n",
    "num_cols3 = ['doctor_recc_seasonal', 'chronic_med_condition', 'child_under_6_months', 'health_worker', 'health_insurance']\n",
    "num_cols4 = ['opinion_h1n1_vacc_effective', 'opinion_h1n1_risk', 'opinion_h1n1_sick_from_vacc', 'opinion_seas_vacc_effective', 'opinion_seas_risk', 'opinion_seas_sick_from_vacc']"
   ]
  },
  {
   "cell_type": "code",
   "execution_count": 24,
   "metadata": {},
   "outputs": [
    {
     "data": {
      "text/plain": [
       "<Axes: >"
      ]
     },
     "execution_count": 24,
     "metadata": {},
     "output_type": "execute_result"
    },
    {
     "data": {
      "image/png": "[encoded data removed]",
      "text/plain": [
       "<Figure size 640x480 with 1 Axes>"
      ]
     },
     "metadata": {},
     "output_type": "display_data"
    }
   ],
   "source": [
    "df.boxplot(num_cols1)"
   ]
  },
  {
   "cell_type": "code",
   "execution_count": 25,
   "metadata": {},
   "outputs": [
    {
     "data": {
      "text/plain": [
       "<Axes: >"
      ]
     },
     "execution_count": 25,
     "metadata": {},
     "output_type": "execute_result"
    },
    {
     "data": {
      "image/png": "[encoded data removed]",
      "text/plain": [
       "<Figure size 640x480 with 1 Axes>"
      ]
     },
     "metadata": {},
     "output_type": "display_data"
    }
   ],
   "source": [
    "df.boxplot(num_cols2)"
   ]
  },
  {
   "cell_type": "code",
   "execution_count": 26,
   "metadata": {},
   "outputs": [
    {
     "data": {
      "text/plain": [
       "<Axes: >"
      ]
     },
     "execution_count": 26,
     "metadata": {},
     "output_type": "execute_result"
    },
    {
     "data": {
      "image/png": "[encoded data removed]",
      "text/plain": [
       "<Figure size 640x480 with 1 Axes>"
      ]
     },
     "metadata": {},
     "output_type": "display_data"
    }
   ],
   "source": [
    "df.boxplot(num_cols3)"
   ]
  },
  {
   "cell_type": "code",
   "execution_count": 27,
   "metadata": {},
   "outputs": [
    {
     "data": {
      "text/plain": [
       "<Axes: >"
      ]
     },
     "execution_count": 27,
     "metadata": {},
     "output_type": "execute_result"
    },
    {
     "data": {
      "image/png": "[encoded data removed]",
      "text/plain": [
       "<Figure size 640x480 with 1 Axes>"
      ]
     },
     "metadata": {},
     "output_type": "display_data"
    }
   ],
   "source": [
    "df.boxplot(num_cols4)"
   ]
  },
  {
   "cell_type": "markdown",
   "metadata": {},
   "source": [
    "## Feature Interaction\n",
    "\n",
    "**H1N1**"
   ]
  },
  {
   "cell_type": "code",
   "execution_count": 28,
   "metadata": {},
   "outputs": [
    {
     "data": {
      "image/png": "[encoded data removed]",
      "text/plain": [
       "<Figure size 500x500 with 1 Axes>"
      ]
     },
     "metadata": {},
     "output_type": "display_data"
    }
   ],
   "source": [
    "# Create a bar plot to explore the relationship between doctor recommendation for H1N1 vaccine and H1N1 vaccine uptake\n",
    "b = sns.catplot(x=\"doctor_recc_h1n1\", y=\"h1n1_vaccine\", data=df, kind=\"bar\", height=5, palette=\"muted\")\n",
    "\n",
    "# Remove the left spine of the plot\n",
    "b.despine(left=True)\n",
    "\n",
    "# Set the y-label for the plot\n",
    "b = b.set_ylabels(\"h1n1_vaccine\")\n"
   ]
  },
  {
   "cell_type": "code",
   "execution_count": 29,
   "metadata": {},
   "outputs": [
    {
     "data": {
      "image/png": "[encoded data removed]",
      "text/plain": [
       "<Figure size 640x480 with 2 Axes>"
      ]
     },
     "metadata": {},
     "output_type": "display_data"
    }
   ],
   "source": [
    "# Create a heatmap to visualize the correlation between selected columns in the dataframe\n",
    "b = sns.heatmap(df[[\"h1n1_vaccine\", \"h1n1_concern\", \"h1n1_knowledge\", \"doctor_recc_h1n1\", \"opinion_h1n1_vacc_effective\", \"opinion_h1n1_risk\", \"opinion_h1n1_sick_from_vacc\"]].corr(), annot=True, fmt=\".2f\", cmap=\"coolwarm\")\n"
   ]
  },
  {
   "cell_type": "code",
   "execution_count": 30,
   "metadata": {},
   "outputs": [
    {
     "data": {
      "image/png": "[encoded data removed]",
      "text/plain": [
       "<Figure size 640x480 with 1 Axes>"
      ]
     },
     "metadata": {},
     "output_type": "display_data"
    }
   ],
   "source": [
    "# Create a kernel density plot for the distribution of doctor recommendations for H1N1 vaccine among non-recipients and recipients\n",
    "b = sns.kdeplot(df[\"doctor_recc_h1n1\"][(df[\"h1n1_vaccine\"] == 0) & (df[\"doctor_recc_h1n1\"].notnull())], color=\"Red\", shade=True)\n",
    "\n",
    "# Overlay another kernel density plot for the distribution of doctor recommendations for H1N1 vaccine among recipients\n",
    "b = sns.kdeplot(df[\"doctor_recc_h1n1\"][(df[\"h1n1_vaccine\"] == 1) & (df[\"doctor_recc_h1n1\"].notnull())], ax=b, color=\"Blue\", shade=True)\n",
    "\n",
    "# Set labels for the x and y axes\n",
    "b.set_xlabel(\"Doctor Recommended\")\n",
    "b.set_ylabel(\"Count\")\n",
    "\n",
    "# Add a legend to differentiate between H1N1 vaccine recipients and non-recipients\n",
    "b = b.legend([\"No H1N1 Vaccine\", \"H1N1 Vaccine\"])\n"
   ]
  },
  {
   "cell_type": "code",
   "execution_count": 31,
   "metadata": {},
   "outputs": [
    {
     "data": {
      "image/png": "[encoded data removed]",
      "text/plain": [
       "<Figure size 734.361x600 with 1 Axes>"
      ]
     },
     "metadata": {},
     "output_type": "display_data"
    }
   ],
   "source": [
    "# Create a grouped bar plot to explore the relationship between opinions about getting sick from the H1N1 vaccine, doctor recommendation for H1N1 vaccine, and H1N1 vaccine uptake\n",
    "b = sns.catplot(x=\"opinion_h1n1_sick_from_vacc\", y=\"h1n1_vaccine\", hue=\"doctor_recc_h1n1\", data=df,\n",
    "                height=6, kind=\"bar\", palette=\"muted\")\n",
    "\n",
    "# Remove the left spine of the plot\n",
    "b.despine(left=True)\n",
    "\n",
    "# Set the y-label for the plot\n",
    "b = b.set_ylabels(\"vaccination probability\")\n"
   ]
  },
  {
   "cell_type": "markdown",
   "metadata": {},
   "source": [
    "**Seasonal Flu Vaccine**"
   ]
  },
  {
   "cell_type": "code",
   "execution_count": 32,
   "metadata": {},
   "outputs": [
    {
     "data": {
      "image/png": "[encoded data removed]",
      "text/plain": [
       "<Figure size 640x480 with 2 Axes>"
      ]
     },
     "metadata": {},
     "output_type": "display_data"
    }
   ],
   "source": [
    "# Create a heatmap to visualize the correlation matrix between selected columns related to seasonal flu vaccination\n",
    "b = sns.heatmap(df[[\"seasonal_vaccine\", \"doctor_recc_seasonal\", \"opinion_seas_vacc_effective\", \"opinion_seas_risk\", \"opinion_seas_sick_from_vacc\"]].corr(), annot=True, fmt=\".2f\", cmap=\"coolwarm\")\n"
   ]
  },
  {
   "cell_type": "code",
   "execution_count": 33,
   "metadata": {},
   "outputs": [
    {
     "data": {
      "image/png": "[encoded data removed]",
      "text/plain": [
       "<Figure size 500x500 with 1 Axes>"
      ]
     },
     "metadata": {},
     "output_type": "display_data"
    }
   ],
   "source": [
    "# Create a bar plot to explore the relationship between doctor recommendation for seasonal flu vaccine and seasonal flu vaccine uptake\n",
    "b = sns.catplot(x=\"doctor_recc_seasonal\", y=\"seasonal_vaccine\", data=df, kind=\"bar\", height=5, palette=\"muted\")\n",
    "\n",
    "# Remove the left spine of the plot\n",
    "b.despine(left=True)\n",
    "\n",
    "# Set the y-label for the plot\n",
    "b = b.set_ylabels(\"seasonal_vaccine\")\n"
   ]
  },
  {
   "cell_type": "code",
   "execution_count": 34,
   "metadata": {},
   "outputs": [
    {
     "data": {
      "image/png": "[encoded data removed]",
      "text/plain": [
       "<Figure size 640x480 with 1 Axes>"
      ]
     },
     "metadata": {},
     "output_type": "display_data"
    }
   ],
   "source": [
    "# Create a kernel density plot for the distribution of doctor recommendations for seasonal flu vaccine among non-recipients and recipients\n",
    "b = sns.kdeplot(df[\"doctor_recc_seasonal\"][(df[\"seasonal_vaccine\"] == 0) & (df[\"doctor_recc_seasonal\"].notnull())], color=\"Red\", shade=True)\n",
    "\n",
    "# Overlay another kernel density plot for the distribution of doctor recommendations for seasonal flu vaccine among recipients\n",
    "b = sns.kdeplot(df[\"doctor_recc_seasonal\"][(df[\"seasonal_vaccine\"] == 1) & (df[\"doctor_recc_seasonal\"].notnull())], ax=b, color=\"Blue\", shade=True)\n",
    "\n",
    "# Set labels for the x and y axes\n",
    "b.set_xlabel(\"Doctor Recommended\")\n",
    "b.set_ylabel(\"Count\")\n",
    "\n",
    "# Add a legend to differentiate between seasonal flu vaccine recipients and non-recipients\n",
    "b = b.legend([\"No Seasonal Flu Vaccine\", \"Seasonal Flu Vaccine\"])\n"
   ]
  },
  {
   "cell_type": "code",
   "execution_count": 35,
   "metadata": {},
   "outputs": [
    {
     "data": {
      "image/png": "[encoded data removed]",
      "text/plain": [
       "<Figure size 760.236x600 with 1 Axes>"
      ]
     },
     "metadata": {},
     "output_type": "display_data"
    }
   ],
   "source": [
    "# Create a grouped bar plot to explore the relationship between opinions about getting sick from the seasonal flu vaccine, doctor recommendation for seasonal flu vaccine, and seasonal flu vaccine uptake\n",
    "b = sns.catplot(x=\"opinion_seas_sick_from_vacc\", y=\"seasonal_vaccine\", hue=\"doctor_recc_seasonal\", data=df,\n",
    "                height=6, kind=\"bar\", palette=\"muted\")\n",
    "\n",
    "# Remove the left spine of the plot\n",
    "b.despine(left=True)\n",
    "\n",
    "# Set the y-label for the plot\n",
    "b = b.set_ylabels(\"Seasonal Flu Vaccination Probability\")\n"
   ]
  },
  {
   "cell_type": "markdown",
   "metadata": {},
   "source": [
    "**Feature Engineering - One Hot Encoding**"
   ]
  },
  {
   "cell_type": "code",
   "execution_count": 36,
   "metadata": {},
   "outputs": [],
   "source": [
    "# Convert categorical variables into dummy/indicator variables and concatenate them with the original dataframe\n",
    "df = pd.concat([df, pd.get_dummies(df['census_msa'], prefix='census_msa'),\n",
    "                pd.get_dummies(df['age_group'], prefix='age'),\n",
    "                pd.get_dummies(df['sex'], prefix='sex'),\n",
    "                pd.get_dummies(df['race'], prefix='race'),\n",
    "                pd.get_dummies(df['rent_or_own'], prefix='rent_or_own'),\n",
    "                pd.get_dummies(df['marital_status'], prefix='marital_status'),\n",
    "                pd.get_dummies(df['education'], prefix='education'),\n",
    "                pd.get_dummies(df['hhs_geo_region'], prefix='hhs_geo_region')], axis=1)\n",
    "\n",
    "# Drop the original categorical variables from the dataframe\n",
    "df.drop(['census_msa', 'age_group', 'education', 'race', 'sex', 'marital_status', 'rent_or_own', 'hhs_geo_region'], axis=1, inplace=True)\n"
   ]
  },
  {
   "cell_type": "code",
   "execution_count": 37,
   "metadata": {},
   "outputs": [
    {
     "data": {
      "text/html": [
       "<div>\n",
       "<style scoped>\n",
       "    .dataframe tbody tr th:only-of-type {\n",
       "        vertical-align: middle;\n",
       "    }\n",
       "\n",
       "    .dataframe tbody tr th {\n",
       "        vertical-align: top;\n",
       "    }\n",
       "\n",
       "    .dataframe thead th {\n",
       "        text-align: right;\n",
       "    }\n",
       "</style>\n",
       "<table border=\"1\" class=\"dataframe\">\n",
       "  <thead>\n",
       "    <tr style=\"text-align: right;\">\n",
       "      <th></th>\n",
       "      <th>respondent_id</th>\n",
       "      <th>h1n1_concern</th>\n",
       "      <th>h1n1_knowledge</th>\n",
       "      <th>behavioral_antiviral_meds</th>\n",
       "      <th>behavioral_avoidance</th>\n",
       "      <th>behavioral_face_mask</th>\n",
       "      <th>behavioral_wash_hands</th>\n",
       "      <th>behavioral_large_gatherings</th>\n",
       "      <th>behavioral_outside_home</th>\n",
       "      <th>behavioral_touch_face</th>\n",
       "      <th>...</th>\n",
       "      <th>hhs_geo_region_1</th>\n",
       "      <th>hhs_geo_region_2</th>\n",
       "      <th>hhs_geo_region_3</th>\n",
       "      <th>hhs_geo_region_4</th>\n",
       "      <th>hhs_geo_region_5</th>\n",
       "      <th>hhs_geo_region_6</th>\n",
       "      <th>hhs_geo_region_7</th>\n",
       "      <th>hhs_geo_region_8</th>\n",
       "      <th>hhs_geo_region_9</th>\n",
       "      <th>hhs_geo_region_10</th>\n",
       "    </tr>\n",
       "  </thead>\n",
       "  <tbody>\n",
       "    <tr>\n",
       "      <th>0</th>\n",
       "      <td>0</td>\n",
       "      <td>1.0</td>\n",
       "      <td>0.0</td>\n",
       "      <td>0.0</td>\n",
       "      <td>0.0</td>\n",
       "      <td>0.0</td>\n",
       "      <td>0.0</td>\n",
       "      <td>0.0</td>\n",
       "      <td>1.0</td>\n",
       "      <td>1.0</td>\n",
       "      <td>...</td>\n",
       "      <td>False</td>\n",
       "      <td>False</td>\n",
       "      <td>False</td>\n",
       "      <td>False</td>\n",
       "      <td>False</td>\n",
       "      <td>False</td>\n",
       "      <td>False</td>\n",
       "      <td>False</td>\n",
       "      <td>True</td>\n",
       "      <td>False</td>\n",
       "    </tr>\n",
       "    <tr>\n",
       "      <th>1</th>\n",
       "      <td>1</td>\n",
       "      <td>3.0</td>\n",
       "      <td>2.0</td>\n",
       "      <td>0.0</td>\n",
       "      <td>1.0</td>\n",
       "      <td>0.0</td>\n",
       "      <td>1.0</td>\n",
       "      <td>0.0</td>\n",
       "      <td>1.0</td>\n",
       "      <td>1.0</td>\n",
       "      <td>...</td>\n",
       "      <td>False</td>\n",
       "      <td>True</td>\n",
       "      <td>False</td>\n",
       "      <td>False</td>\n",
       "      <td>False</td>\n",
       "      <td>False</td>\n",
       "      <td>False</td>\n",
       "      <td>False</td>\n",
       "      <td>False</td>\n",
       "      <td>False</td>\n",
       "    </tr>\n",
       "    <tr>\n",
       "      <th>2</th>\n",
       "      <td>2</td>\n",
       "      <td>1.0</td>\n",
       "      <td>1.0</td>\n",
       "      <td>0.0</td>\n",
       "      <td>1.0</td>\n",
       "      <td>0.0</td>\n",
       "      <td>0.0</td>\n",
       "      <td>0.0</td>\n",
       "      <td>0.0</td>\n",
       "      <td>0.0</td>\n",
       "      <td>...</td>\n",
       "      <td>False</td>\n",
       "      <td>False</td>\n",
       "      <td>False</td>\n",
       "      <td>False</td>\n",
       "      <td>False</td>\n",
       "      <td>False</td>\n",
       "      <td>False</td>\n",
       "      <td>False</td>\n",
       "      <td>False</td>\n",
       "      <td>True</td>\n",
       "    </tr>\n",
       "    <tr>\n",
       "      <th>3</th>\n",
       "      <td>3</td>\n",
       "      <td>1.0</td>\n",
       "      <td>1.0</td>\n",
       "      <td>0.0</td>\n",
       "      <td>1.0</td>\n",
       "      <td>0.0</td>\n",
       "      <td>1.0</td>\n",
       "      <td>1.0</td>\n",
       "      <td>0.0</td>\n",
       "      <td>0.0</td>\n",
       "      <td>...</td>\n",
       "      <td>False</td>\n",
       "      <td>False</td>\n",
       "      <td>False</td>\n",
       "      <td>False</td>\n",
       "      <td>False</td>\n",
       "      <td>True</td>\n",
       "      <td>False</td>\n",
       "      <td>False</td>\n",
       "      <td>False</td>\n",
       "      <td>False</td>\n",
       "    </tr>\n",
       "    <tr>\n",
       "      <th>4</th>\n",
       "      <td>4</td>\n",
       "      <td>2.0</td>\n",
       "      <td>1.0</td>\n",
       "      <td>0.0</td>\n",
       "      <td>1.0</td>\n",
       "      <td>0.0</td>\n",
       "      <td>1.0</td>\n",
       "      <td>1.0</td>\n",
       "      <td>0.0</td>\n",
       "      <td>1.0</td>\n",
       "      <td>...</td>\n",
       "      <td>False</td>\n",
       "      <td>False</td>\n",
       "      <td>False</td>\n",
       "      <td>False</td>\n",
       "      <td>False</td>\n",
       "      <td>False</td>\n",
       "      <td>False</td>\n",
       "      <td>False</td>\n",
       "      <td>False</td>\n",
       "      <td>True</td>\n",
       "    </tr>\n",
       "  </tbody>\n",
       "</table>\n",
       "<p>5 rows × 62 columns</p>\n",
       "</div>"
      ],
      "text/plain": [
       "   respondent_id  h1n1_concern  h1n1_knowledge  behavioral_antiviral_meds  \\\n",
       "0              0           1.0             0.0                        0.0   \n",
       "1              1           3.0             2.0                        0.0   \n",
       "2              2           1.0             1.0                        0.0   \n",
       "3              3           1.0             1.0                        0.0   \n",
       "4              4           2.0             1.0                        0.0   \n",
       "\n",
       "   behavioral_avoidance  behavioral_face_mask  behavioral_wash_hands  \\\n",
       "0                   0.0                   0.0                    0.0   \n",
       "1                   1.0                   0.0                    1.0   \n",
       "2                   1.0                   0.0                    0.0   \n",
       "3                   1.0                   0.0                    1.0   \n",
       "4                   1.0                   0.0                    1.0   \n",
       "\n",
       "   behavioral_large_gatherings  behavioral_outside_home  \\\n",
       "0                          0.0                      1.0   \n",
       "1                          0.0                      1.0   \n",
       "2                          0.0                      0.0   \n",
       "3                          1.0                      0.0   \n",
       "4                          1.0                      0.0   \n",
       "\n",
       "   behavioral_touch_face  ...  hhs_geo_region_1  hhs_geo_region_2  \\\n",
       "0                    1.0  ...             False             False   \n",
       "1                    1.0  ...             False              True   \n",
       "2                    0.0  ...             False             False   \n",
       "3                    0.0  ...             False             False   \n",
       "4                    1.0  ...             False             False   \n",
       "\n",
       "   hhs_geo_region_3  hhs_geo_region_4  hhs_geo_region_5  hhs_geo_region_6  \\\n",
       "0             False             False             False             False   \n",
       "1             False             False             False             False   \n",
       "2             False             False             False             False   \n",
       "3             False             False             False              True   \n",
       "4             False             False             False             False   \n",
       "\n",
       "   hhs_geo_region_7  hhs_geo_region_8  hhs_geo_region_9  hhs_geo_region_10  \n",
       "0             False             False              True              False  \n",
       "1             False             False             False              False  \n",
       "2             False             False             False               True  \n",
       "3             False             False             False              False  \n",
       "4             False             False             False               True  \n",
       "\n",
       "[5 rows x 62 columns]"
      ]
     },
     "execution_count": 37,
     "metadata": {},
     "output_type": "execute_result"
    }
   ],
   "source": [
    "df.head()"
   ]
  },
  {
   "cell_type": "code",
   "execution_count": 38,
   "metadata": {},
   "outputs": [
    {
     "data": {
      "text/plain": [
       "respondent_id                  int64\n",
       "h1n1_concern                 float64\n",
       "h1n1_knowledge               float64\n",
       "behavioral_antiviral_meds    float64\n",
       "behavioral_avoidance         float64\n",
       "                              ...   \n",
       "hhs_geo_region_6                bool\n",
       "hhs_geo_region_7                bool\n",
       "hhs_geo_region_8                bool\n",
       "hhs_geo_region_9                bool\n",
       "hhs_geo_region_10               bool\n",
       "Length: 62, dtype: object"
      ]
     },
     "execution_count": 38,
     "metadata": {},
     "output_type": "execute_result"
    }
   ],
   "source": [
    "df.dtypes"
   ]
  },
  {
   "cell_type": "markdown",
   "metadata": {},
   "source": [
    "## Modeling\n"
   ]
  },
  {
   "cell_type": "code",
   "execution_count": 39,
   "metadata": {},
   "outputs": [],
   "source": [
    "from sklearn.ensemble import RandomForestClassifier\n",
    "from sklearn.neighbors import KNeighborsClassifier\n",
    "from sklearn.linear_model import LinearRegression\n",
    "from sklearn.linear_model import LogisticRegression\n",
    "from sklearn.svm import SVC\n",
    "from sklearn.tree import DecisionTreeClassifier\n",
    "from sklearn.model_selection import RepeatedStratifiedKFold\n",
    "from sklearn.model_selection import GridSearchCV, RandomizedSearchCV\n",
    "from sklearn.pipeline import Pipeline\n",
    "from sklearn.neural_network import MLPClassifier\n",
    "from sklearn.ensemble import GradientBoostingClassifier\n",
    "from sklearn.metrics import classification_report\n",
    "from sklearn.compose import ColumnTransformer\n",
    "from sklearn.compose import make_column_transformer\n",
    "from sklearn.metrics import precision_score, recall_score, f1_score\n",
    "from sklearn import metrics\n",
    "from sklearn.metrics import confusion_matrix\n",
    "from sklearn.cluster import KMeans\n",
    "from sklearn.model_selection import cross_val_score\n",
    "from sklearn.pipeline import Pipeline\n",
    "from sklearn import model_selection,linear_model, datasets\n",
    "from sklearn.ensemble import VotingClassifier\n",
    "from sklearn.feature_selection import SelectFromModel\n",
    "from sklearn.metrics import roc_auc_score\n",
    "from sklearn.preprocessing import OneHotEncoder\n",
    "from sklearn.metrics import roc_curve\n",
    "from sklearn.preprocessing import StandardScaler\n",
    "from sklearn.model_selection import train_test_split\n",
    "from sklearn.impute import SimpleImputer"
   ]
  },
  {
   "cell_type": "code",
   "execution_count": 40,
   "metadata": {},
   "outputs": [],
   "source": [
    "# Select specific variables to use by dropping certain columns from the dataframe\n",
    "df_use = df.drop(['health_insurance', 'income_poverty', 'employment_industry', 'employment_occupation'], axis=1)"
   ]
  },
  {
   "cell_type": "markdown",
   "metadata": {},
   "source": [
    "**Split Training Test Data**"
   ]
  },
  {
   "cell_type": "code",
   "execution_count": 41,
   "metadata": {},
   "outputs": [
    {
     "name": "stdout",
     "output_type": "stream",
     "text": [
      "<class 'pandas.core.frame.DataFrame'>\n",
      "RangeIndex: 26707 entries, 0 to 26706\n",
      "Data columns (total 58 columns):\n",
      " #   Column                       Non-Null Count  Dtype  \n",
      "---  ------                       --------------  -----  \n",
      " 0   respondent_id                26707 non-null  int64  \n",
      " 1   h1n1_concern                 26707 non-null  float64\n",
      " 2   h1n1_knowledge               26707 non-null  float64\n",
      " 3   behavioral_antiviral_meds    26707 non-null  float64\n",
      " 4   behavioral_avoidance         26707 non-null  float64\n",
      " 5   behavioral_face_mask         26707 non-null  float64\n",
      " 6   behavioral_wash_hands        26707 non-null  float64\n",
      " 7   behavioral_large_gatherings  26707 non-null  float64\n",
      " 8   behavioral_outside_home      26707 non-null  float64\n",
      " 9   behavioral_touch_face        26707 non-null  float64\n",
      " 10  doctor_recc_h1n1             26707 non-null  float64\n",
      " 11  doctor_recc_seasonal         26707 non-null  float64\n",
      " 12  chronic_med_condition        26707 non-null  float64\n",
      " 13  child_under_6_months         26707 non-null  float64\n",
      " 14  health_worker                26707 non-null  float64\n",
      " 15  opinion_h1n1_vacc_effective  26707 non-null  float64\n",
      " 16  opinion_h1n1_risk            26707 non-null  float64\n",
      " 17  opinion_h1n1_sick_from_vacc  26707 non-null  float64\n",
      " 18  opinion_seas_vacc_effective  26707 non-null  float64\n",
      " 19  opinion_seas_risk            26707 non-null  float64\n",
      " 20  opinion_seas_sick_from_vacc  26707 non-null  float64\n",
      " 21  employment_status            26707 non-null  int32  \n",
      " 22  household_adults             26707 non-null  float64\n",
      " 23  household_children           26707 non-null  float64\n",
      " 24  h1n1_vaccine                 26707 non-null  int64  \n",
      " 25  seasonal_vaccine             26707 non-null  int64  \n",
      " 26  census_msa_1                 26707 non-null  bool   \n",
      " 27  census_msa_2                 26707 non-null  bool   \n",
      " 28  census_msa_3                 26707 non-null  bool   \n",
      " 29  age_1                        26707 non-null  bool   \n",
      " 30  age_2                        26707 non-null  bool   \n",
      " 31  age_3                        26707 non-null  bool   \n",
      " 32  age_4                        26707 non-null  bool   \n",
      " 33  age_5                        26707 non-null  bool   \n",
      " 34  sex_0                        26707 non-null  bool   \n",
      " 35  sex_1                        26707 non-null  bool   \n",
      " 36  race_1                       26707 non-null  bool   \n",
      " 37  race_2                       26707 non-null  bool   \n",
      " 38  race_3                       26707 non-null  bool   \n",
      " 39  race_4                       26707 non-null  bool   \n",
      " 40  rent_or_own_0                26707 non-null  bool   \n",
      " 41  rent_or_own_1                26707 non-null  bool   \n",
      " 42  marital_status_0             26707 non-null  bool   \n",
      " 43  marital_status_1             26707 non-null  bool   \n",
      " 44  education_1                  26707 non-null  bool   \n",
      " 45  education_2                  26707 non-null  bool   \n",
      " 46  education_3                  26707 non-null  bool   \n",
      " 47  education_4                  26707 non-null  bool   \n",
      " 48  hhs_geo_region_1             26707 non-null  bool   \n",
      " 49  hhs_geo_region_2             26707 non-null  bool   \n",
      " 50  hhs_geo_region_3             26707 non-null  bool   \n",
      " 51  hhs_geo_region_4             26707 non-null  bool   \n",
      " 52  hhs_geo_region_5             26707 non-null  bool   \n",
      " 53  hhs_geo_region_6             26707 non-null  bool   \n",
      " 54  hhs_geo_region_7             26707 non-null  bool   \n",
      " 55  hhs_geo_region_8             26707 non-null  bool   \n",
      " 56  hhs_geo_region_9             26707 non-null  bool   \n",
      " 57  hhs_geo_region_10            26707 non-null  bool   \n",
      "dtypes: bool(32), float64(22), int32(1), int64(3)\n",
      "memory usage: 6.0 MB\n"
     ]
    }
   ],
   "source": [
    "df_use.info()"
   ]
  },
  {
   "cell_type": "code",
   "execution_count": 42,
   "metadata": {},
   "outputs": [],
   "source": [
    "# Splitting test and training data for H1N1 vaccine prediction\n",
    "X1 = df_use.loc[:, ~df_use.columns.isin(['h1n1_vaccine', 'respondent_id'])]\n",
    "y1 = df_use[\"h1n1_vaccine\"]\n",
    "X1_train, X1_test, y1_train, y1_test = train_test_split(X1, y1, test_size=0.2)\n",
    "\n",
    "# Splitting test and training data for Seasonal Flu vaccine prediction\n",
    "X2 = df_use.loc[:, ~df_use.columns.isin(['seasonal_vaccine', 'respondent_id'])]\n",
    "y2 = df_use[\"seasonal_vaccine\"]\n",
    "X2_train, X2_test, y2_train, y2_test = train_test_split(X2, y2, test_size=0.2)\n",
    "\n",
    "# Scaling the features\n",
    "scaler = StandardScaler()  \n",
    "scaler.fit(X1_train)\n",
    "X1_train = scaler.transform(X1_train)\n",
    "X1_test = scaler.transform(X1_test)\n",
    "\n",
    "scaler.fit(X2_train)\n",
    "X2_train = scaler.transform(X2_train)\n",
    "X2_test = scaler.transform(X2_test)\n"
   ]
  },
  {
   "cell_type": "markdown",
   "metadata": {},
   "source": [
    "**Feature Selection - Lasso Regression**"
   ]
  },
  {
   "cell_type": "markdown",
   "metadata": {},
   "source": [
    "**H1N1**"
   ]
  },
  {
   "cell_type": "code",
   "execution_count": 43,
   "metadata": {},
   "outputs": [
    {
     "data": {
      "text/html": [
       "<style>#sk-container-id-1 {color: black;}#sk-container-id-1 pre{padding: 0;}#sk-container-id-1 div.sk-toggleable {background-color: white;}#sk-container-id-1 label.sk-toggleable__label {cursor: pointer;display: block;width: 100%;margin-bottom: 0;padding: 0.3em;box-sizing: border-box;text-align: center;}#sk-container-id-1 label.sk-toggleable__label-arrow:before {content: \"▸\";float: left;margin-right: 0.25em;color: #696969;}#sk-container-id-1 label.sk-toggleable__label-arrow:hover:before {color: black;}#sk-container-id-1 div.sk-estimator:hover label.sk-toggleable__label-arrow:before {color: black;}#sk-container-id-1 div.sk-toggleable__content {max-height: 0;max-width: 0;overflow: hidden;text-align: left;background-color: #f0f8ff;}#sk-container-id-1 div.sk-toggleable__content pre {margin: 0.2em;color: black;border-radius: 0.25em;background-color: #f0f8ff;}#sk-container-id-1 input.sk-toggleable__control:checked~div.sk-toggleable__content {max-height: 200px;max-width: 100%;overflow: auto;}#sk-container-id-1 input.sk-toggleable__control:checked~label.sk-toggleable__label-arrow:before {content: \"▾\";}#sk-container-id-1 div.sk-estimator input.sk-toggleable__control:checked~label.sk-toggleable__label {background-color: #d4ebff;}#sk-container-id-1 div.sk-label input.sk-toggleable__control:checked~label.sk-toggleable__label {background-color: #d4ebff;}#sk-container-id-1 input.sk-hidden--visually {border: 0;clip: rect(1px 1px 1px 1px);clip: rect(1px, 1px, 1px, 1px);height: 1px;margin: -1px;overflow: hidden;padding: 0;position: absolute;width: 1px;}#sk-container-id-1 div.sk-estimator {font-family: monospace;background-color: #f0f8ff;border: 1px dotted black;border-radius: 0.25em;box-sizing: border-box;margin-bottom: 0.5em;}#sk-container-id-1 div.sk-estimator:hover {background-color: #d4ebff;}#sk-container-id-1 div.sk-parallel-item::after {content: \"\";width: 100%;border-bottom: 1px solid gray;flex-grow: 1;}#sk-container-id-1 div.sk-label:hover label.sk-toggleable__label {background-color: #d4ebff;}#sk-container-id-1 div.sk-serial::before {content: \"\";position: absolute;border-left: 1px solid gray;box-sizing: border-box;top: 0;bottom: 0;left: 50%;z-index: 0;}#sk-container-id-1 div.sk-serial {display: flex;flex-direction: column;align-items: center;background-color: white;padding-right: 0.2em;padding-left: 0.2em;position: relative;}#sk-container-id-1 div.sk-item {position: relative;z-index: 1;}#sk-container-id-1 div.sk-parallel {display: flex;align-items: stretch;justify-content: center;background-color: white;position: relative;}#sk-container-id-1 div.sk-item::before, #sk-container-id-1 div.sk-parallel-item::before {content: \"\";position: absolute;border-left: 1px solid gray;box-sizing: border-box;top: 0;bottom: 0;left: 50%;z-index: -1;}#sk-container-id-1 div.sk-parallel-item {display: flex;flex-direction: column;z-index: 1;position: relative;background-color: white;}#sk-container-id-1 div.sk-parallel-item:first-child::after {align-self: flex-end;width: 50%;}#sk-container-id-1 div.sk-parallel-item:last-child::after {align-self: flex-start;width: 50%;}#sk-container-id-1 div.sk-parallel-item:only-child::after {width: 0;}#sk-container-id-1 div.sk-dashed-wrapped {border: 1px dashed gray;margin: 0 0.4em 0.5em 0.4em;box-sizing: border-box;padding-bottom: 0.4em;background-color: white;}#sk-container-id-1 div.sk-label label {font-family: monospace;font-weight: bold;display: inline-block;line-height: 1.2em;}#sk-container-id-1 div.sk-label-container {text-align: center;}#sk-container-id-1 div.sk-container {/* jupyter's `normalize.less` sets `[hidden] { display: none; }` but bootstrap.min.css set `[hidden] { display: none !important; }` so we also need the `!important` here to be able to override the default hidden behavior on the sphinx rendered scikit-learn.org. See: https://github.com/scikit-learn/scikit-learn/issues/21755 */display: inline-block !important;position: relative;}#sk-container-id-1 div.sk-text-repr-fallback {display: none;}</style><div id=\"sk-container-id-1\" class=\"sk-top-container\"><div class=\"sk-text-repr-fallback\"><pre>SelectFromModel(estimator=LogisticRegression(C=1, penalty=&#x27;l1&#x27;,\n",
       "                                             solver=&#x27;liblinear&#x27;))</pre><b>In a Jupyter environment, please rerun this cell to show the HTML representation or trust the notebook. <br />On GitHub, the HTML representation is unable to render, please try loading this page with nbviewer.org.</b></div><div class=\"sk-container\" hidden><div class=\"sk-item sk-dashed-wrapped\"><div class=\"sk-label-container\"><div class=\"sk-label sk-toggleable\"><input class=\"sk-toggleable__control sk-hidden--visually\" id=\"sk-estimator-id-1\" type=\"checkbox\" ><label for=\"sk-estimator-id-1\" class=\"sk-toggleable__label sk-toggleable__label-arrow\">SelectFromModel</label><div class=\"sk-toggleable__content\"><pre>SelectFromModel(estimator=LogisticRegression(C=1, penalty=&#x27;l1&#x27;,\n",
       "                                             solver=&#x27;liblinear&#x27;))</pre></div></div></div><div class=\"sk-parallel\"><div class=\"sk-parallel-item\"><div class=\"sk-item\"><div class=\"sk-label-container\"><div class=\"sk-label sk-toggleable\"><input class=\"sk-toggleable__control sk-hidden--visually\" id=\"sk-estimator-id-2\" type=\"checkbox\" ><label for=\"sk-estimator-id-2\" class=\"sk-toggleable__label sk-toggleable__label-arrow\">estimator: LogisticRegression</label><div class=\"sk-toggleable__content\"><pre>LogisticRegression(C=1, penalty=&#x27;l1&#x27;, solver=&#x27;liblinear&#x27;)</pre></div></div></div><div class=\"sk-serial\"><div class=\"sk-item\"><div class=\"sk-estimator sk-toggleable\"><input class=\"sk-toggleable__control sk-hidden--visually\" id=\"sk-estimator-id-3\" type=\"checkbox\" ><label for=\"sk-estimator-id-3\" class=\"sk-toggleable__label sk-toggleable__label-arrow\">LogisticRegression</label><div class=\"sk-toggleable__content\"><pre>LogisticRegression(C=1, penalty=&#x27;l1&#x27;, solver=&#x27;liblinear&#x27;)</pre></div></div></div></div></div></div></div></div></div></div>"
      ],
      "text/plain": [
       "SelectFromModel(estimator=LogisticRegression(C=1, penalty='l1',\n",
       "                                             solver='liblinear'))"
      ]
     },
     "execution_count": 43,
     "metadata": {},
     "output_type": "execute_result"
    }
   ],
   "source": [
    "# Initialize SelectFromModel with Logistic Regression as the estimator\n",
    "sel_1 = SelectFromModel(LogisticRegression(C=1, penalty='l1', solver='liblinear'))\n",
    "\n",
    "# Fit SelectFromModel to the training data for H1N1 vaccine prediction\n",
    "sel_1.fit(X1_train, y1_train)\n"
   ]
  },
  {
   "cell_type": "code",
   "execution_count": 44,
   "metadata": {},
   "outputs": [
    {
     "name": "stdout",
     "output_type": "stream",
     "text": [
      "[ True  True  True  True  True  True  True  True  True  True  True  True\n",
      "  True  True  True  True  True  True  True  True  True  True  True  True\n",
      "  True False False  True  True  True  True False  True  True  True  True\n",
      "  True False False  True  True  True  True False  True  True False  True\n",
      "  True  True  True  True  True  True  True  True]\n"
     ]
    }
   ],
   "source": [
    "# Get the selected features from SelectFromModel\n",
    "selected_features_1 = sel_1.get_support()\n",
    "\n",
    "# Print the selected features\n",
    "print(selected_features_1)"
   ]
  },
  {
   "cell_type": "code",
   "execution_count": 45,
   "metadata": {},
   "outputs": [
    {
     "name": "stdout",
     "output_type": "stream",
     "text": [
      "Total features: 56\n",
      "Selected features: 49\n"
     ]
    }
   ],
   "source": [
    "# Initialize SimpleImputer\n",
    "my_imputer1 = SimpleImputer()\n",
    "\n",
    "# Impute missing values in the training data for H1N1 vaccine prediction\n",
    "imputed_X1_train = pd.DataFrame(my_imputer1.fit_transform(X1_train))\n",
    "\n",
    "# Imputation removed column names; put them back\n",
    "imputed_X1_train.columns = X1.columns\n",
    "\n",
    "# Get selected features from SelectFromModel\n",
    "selected_feat1 = imputed_X1_train.columns[(sel_1.get_support())]\n",
    "\n",
    "# Print the total number of features and the number of selected features\n",
    "print('Total features: {}'.format(X1_train.shape[1]))\n",
    "print('Selected features: {}'.format(len(selected_feat1)))"
   ]
  },
  {
   "cell_type": "code",
   "execution_count": 46,
   "metadata": {},
   "outputs": [
    {
     "name": "stdout",
     "output_type": "stream",
     "text": [
      "Index(['h1n1_concern', 'h1n1_knowledge', 'behavioral_antiviral_meds',\n",
      "       'behavioral_avoidance', 'behavioral_face_mask', 'behavioral_wash_hands',\n",
      "       'behavioral_large_gatherings', 'behavioral_outside_home',\n",
      "       'behavioral_touch_face', 'doctor_recc_h1n1', 'doctor_recc_seasonal',\n",
      "       'chronic_med_condition', 'child_under_6_months', 'health_worker',\n",
      "       'opinion_h1n1_vacc_effective', 'opinion_h1n1_risk',\n",
      "       'opinion_h1n1_sick_from_vacc', 'opinion_seas_vacc_effective',\n",
      "       'opinion_seas_risk', 'opinion_seas_sick_from_vacc', 'employment_status',\n",
      "       'household_adults', 'household_children', 'seasonal_vaccine',\n",
      "       'census_msa_1', 'age_1', 'age_2', 'age_3', 'age_4', 'sex_0', 'sex_1',\n",
      "       'race_1', 'race_2', 'race_3', 'rent_or_own_1', 'marital_status_0',\n",
      "       'marital_status_1', 'education_1', 'education_3', 'education_4',\n",
      "       'hhs_geo_region_2', 'hhs_geo_region_3', 'hhs_geo_region_4',\n",
      "       'hhs_geo_region_5', 'hhs_geo_region_6', 'hhs_geo_region_7',\n",
      "       'hhs_geo_region_8', 'hhs_geo_region_9', 'hhs_geo_region_10'],\n",
      "      dtype='object')\n"
     ]
    }
   ],
   "source": [
    "# Print the selected features\n",
    "print(selected_feat1)"
   ]
  },
  {
   "cell_type": "markdown",
   "metadata": {},
   "source": [
    "**Seasonal Flu**"
   ]
  },
  {
   "cell_type": "code",
   "execution_count": 47,
   "metadata": {},
   "outputs": [
    {
     "data": {
      "text/html": [
       "<style>#sk-container-id-2 {color: black;}#sk-container-id-2 pre{padding: 0;}#sk-container-id-2 div.sk-toggleable {background-color: white;}#sk-container-id-2 label.sk-toggleable__label {cursor: pointer;display: block;width: 100%;margin-bottom: 0;padding: 0.3em;box-sizing: border-box;text-align: center;}#sk-container-id-2 label.sk-toggleable__label-arrow:before {content: \"▸\";float: left;margin-right: 0.25em;color: #696969;}#sk-container-id-2 label.sk-toggleable__label-arrow:hover:before {color: black;}#sk-container-id-2 div.sk-estimator:hover label.sk-toggleable__label-arrow:before {color: black;}#sk-container-id-2 div.sk-toggleable__content {max-height: 0;max-width: 0;overflow: hidden;text-align: left;background-color: #f0f8ff;}#sk-container-id-2 div.sk-toggleable__content pre {margin: 0.2em;color: black;border-radius: 0.25em;background-color: #f0f8ff;}#sk-container-id-2 input.sk-toggleable__control:checked~div.sk-toggleable__content {max-height: 200px;max-width: 100%;overflow: auto;}#sk-container-id-2 input.sk-toggleable__control:checked~label.sk-toggleable__label-arrow:before {content: \"▾\";}#sk-container-id-2 div.sk-estimator input.sk-toggleable__control:checked~label.sk-toggleable__label {background-color: #d4ebff;}#sk-container-id-2 div.sk-label input.sk-toggleable__control:checked~label.sk-toggleable__label {background-color: #d4ebff;}#sk-container-id-2 input.sk-hidden--visually {border: 0;clip: rect(1px 1px 1px 1px);clip: rect(1px, 1px, 1px, 1px);height: 1px;margin: -1px;overflow: hidden;padding: 0;position: absolute;width: 1px;}#sk-container-id-2 div.sk-estimator {font-family: monospace;background-color: #f0f8ff;border: 1px dotted black;border-radius: 0.25em;box-sizing: border-box;margin-bottom: 0.5em;}#sk-container-id-2 div.sk-estimator:hover {background-color: #d4ebff;}#sk-container-id-2 div.sk-parallel-item::after {content: \"\";width: 100%;border-bottom: 1px solid gray;flex-grow: 1;}#sk-container-id-2 div.sk-label:hover label.sk-toggleable__label {background-color: #d4ebff;}#sk-container-id-2 div.sk-serial::before {content: \"\";position: absolute;border-left: 1px solid gray;box-sizing: border-box;top: 0;bottom: 0;left: 50%;z-index: 0;}#sk-container-id-2 div.sk-serial {display: flex;flex-direction: column;align-items: center;background-color: white;padding-right: 0.2em;padding-left: 0.2em;position: relative;}#sk-container-id-2 div.sk-item {position: relative;z-index: 1;}#sk-container-id-2 div.sk-parallel {display: flex;align-items: stretch;justify-content: center;background-color: white;position: relative;}#sk-container-id-2 div.sk-item::before, #sk-container-id-2 div.sk-parallel-item::before {content: \"\";position: absolute;border-left: 1px solid gray;box-sizing: border-box;top: 0;bottom: 0;left: 50%;z-index: -1;}#sk-container-id-2 div.sk-parallel-item {display: flex;flex-direction: column;z-index: 1;position: relative;background-color: white;}#sk-container-id-2 div.sk-parallel-item:first-child::after {align-self: flex-end;width: 50%;}#sk-container-id-2 div.sk-parallel-item:last-child::after {align-self: flex-start;width: 50%;}#sk-container-id-2 div.sk-parallel-item:only-child::after {width: 0;}#sk-container-id-2 div.sk-dashed-wrapped {border: 1px dashed gray;margin: 0 0.4em 0.5em 0.4em;box-sizing: border-box;padding-bottom: 0.4em;background-color: white;}#sk-container-id-2 div.sk-label label {font-family: monospace;font-weight: bold;display: inline-block;line-height: 1.2em;}#sk-container-id-2 div.sk-label-container {text-align: center;}#sk-container-id-2 div.sk-container {/* jupyter's `normalize.less` sets `[hidden] { display: none; }` but bootstrap.min.css set `[hidden] { display: none !important; }` so we also need the `!important` here to be able to override the default hidden behavior on the sphinx rendered scikit-learn.org. See: https://github.com/scikit-learn/scikit-learn/issues/21755 */display: inline-block !important;position: relative;}#sk-container-id-2 div.sk-text-repr-fallback {display: none;}</style><div id=\"sk-container-id-2\" class=\"sk-top-container\"><div class=\"sk-text-repr-fallback\"><pre>SelectFromModel(estimator=LogisticRegression(C=1, penalty=&#x27;l1&#x27;,\n",
       "                                             solver=&#x27;liblinear&#x27;))</pre><b>In a Jupyter environment, please rerun this cell to show the HTML representation or trust the notebook. <br />On GitHub, the HTML representation is unable to render, please try loading this page with nbviewer.org.</b></div><div class=\"sk-container\" hidden><div class=\"sk-item sk-dashed-wrapped\"><div class=\"sk-label-container\"><div class=\"sk-label sk-toggleable\"><input class=\"sk-toggleable__control sk-hidden--visually\" id=\"sk-estimator-id-4\" type=\"checkbox\" ><label for=\"sk-estimator-id-4\" class=\"sk-toggleable__label sk-toggleable__label-arrow\">SelectFromModel</label><div class=\"sk-toggleable__content\"><pre>SelectFromModel(estimator=LogisticRegression(C=1, penalty=&#x27;l1&#x27;,\n",
       "                                             solver=&#x27;liblinear&#x27;))</pre></div></div></div><div class=\"sk-parallel\"><div class=\"sk-parallel-item\"><div class=\"sk-item\"><div class=\"sk-label-container\"><div class=\"sk-label sk-toggleable\"><input class=\"sk-toggleable__control sk-hidden--visually\" id=\"sk-estimator-id-5\" type=\"checkbox\" ><label for=\"sk-estimator-id-5\" class=\"sk-toggleable__label sk-toggleable__label-arrow\">estimator: LogisticRegression</label><div class=\"sk-toggleable__content\"><pre>LogisticRegression(C=1, penalty=&#x27;l1&#x27;, solver=&#x27;liblinear&#x27;)</pre></div></div></div><div class=\"sk-serial\"><div class=\"sk-item\"><div class=\"sk-estimator sk-toggleable\"><input class=\"sk-toggleable__control sk-hidden--visually\" id=\"sk-estimator-id-6\" type=\"checkbox\" ><label for=\"sk-estimator-id-6\" class=\"sk-toggleable__label sk-toggleable__label-arrow\">LogisticRegression</label><div class=\"sk-toggleable__content\"><pre>LogisticRegression(C=1, penalty=&#x27;l1&#x27;, solver=&#x27;liblinear&#x27;)</pre></div></div></div></div></div></div></div></div></div></div>"
      ],
      "text/plain": [
       "SelectFromModel(estimator=LogisticRegression(C=1, penalty='l1',\n",
       "                                             solver='liblinear'))"
      ]
     },
     "execution_count": 47,
     "metadata": {},
     "output_type": "execute_result"
    }
   ],
   "source": [
    "# Initialize SelectFromModel with Logistic Regression as the estimator\n",
    "sel_2 = SelectFromModel(LogisticRegression(C=1, penalty='l1', solver='liblinear'))\n",
    "\n",
    "# Fit SelectFromModel to the training data for Seasonal Flu vaccine prediction\n",
    "sel_2.fit(X2_train, y2_train)\n"
   ]
  },
  {
   "cell_type": "code",
   "execution_count": 48,
   "metadata": {},
   "outputs": [
    {
     "data": {
      "text/plain": [
       "array([ True,  True,  True,  True,  True,  True,  True,  True,  True,\n",
       "        True,  True,  True,  True,  True,  True,  True,  True,  True,\n",
       "        True,  True,  True,  True,  True,  True, False,  True,  True,\n",
       "        True,  True, False,  True,  True,  True, False,  True,  True,\n",
       "        True, False,  True,  True,  True,  True,  True,  True,  True,\n",
       "       False,  True,  True,  True,  True,  True,  True, False,  True,\n",
       "        True,  True])"
      ]
     },
     "execution_count": 48,
     "metadata": {},
     "output_type": "execute_result"
    }
   ],
   "source": [
    "# Get the selected features from SelectFromModel\n",
    "selected_features_2 = sel_2.get_support()\n",
    "\n",
    "# Print the selected features\n",
    "selected_features_2"
   ]
  },
  {
   "cell_type": "code",
   "execution_count": 49,
   "metadata": {},
   "outputs": [
    {
     "name": "stdout",
     "output_type": "stream",
     "text": [
      "Total features: 56\n",
      "Selected features: 50\n",
      "Features with coefficients shrank to zero: 5\n"
     ]
    }
   ],
   "source": [
    "\n",
    "# Initialize SimpleImputer\n",
    "my_imputer2 = SimpleImputer()\n",
    "\n",
    "# Impute missing values in the training data for Seasonal Flu vaccine prediction\n",
    "imputed_X2_train = pd.DataFrame(my_imputer2.fit_transform(X2_train))\n",
    "\n",
    "# Imputation removed column names; put them back\n",
    "imputed_X2_train.columns = X2.columns\n",
    "\n",
    "# Get selected features from SelectFromModel\n",
    "selected_feat2 = imputed_X2_train.columns[(sel_2.get_support())]\n",
    "\n",
    "# Print the total number of features, the number of selected features, and the number of features with coefficients shrank to zero\n",
    "print('Total features: {}'.format(X2_train.shape[1]))\n",
    "print('Selected features: {}'.format(len(selected_feat2)))\n",
    "print('Features with coefficients shrank to zero: {}'.format(np.sum(sel_2.estimator_.coef_ == 0)))"
   ]
  },
  {
   "cell_type": "code",
   "execution_count": 50,
   "metadata": {},
   "outputs": [
    {
     "name": "stdout",
     "output_type": "stream",
     "text": [
      "Index(['h1n1_concern', 'h1n1_knowledge', 'behavioral_antiviral_meds',\n",
      "       'behavioral_avoidance', 'behavioral_face_mask', 'behavioral_wash_hands',\n",
      "       'behavioral_large_gatherings', 'behavioral_outside_home',\n",
      "       'behavioral_touch_face', 'doctor_recc_h1n1', 'doctor_recc_seasonal',\n",
      "       'chronic_med_condition', 'child_under_6_months', 'health_worker',\n",
      "       'opinion_h1n1_vacc_effective', 'opinion_h1n1_risk',\n",
      "       'opinion_h1n1_sick_from_vacc', 'opinion_seas_vacc_effective',\n",
      "       'opinion_seas_risk', 'opinion_seas_sick_from_vacc', 'employment_status',\n",
      "       'household_adults', 'household_children', 'seasonal_vaccine',\n",
      "       'census_msa_1', 'age_1', 'age_2', 'age_3', 'age_4', 'sex_0', 'sex_1',\n",
      "       'race_1', 'race_2', 'race_3', 'rent_or_own_1', 'marital_status_0',\n",
      "       'marital_status_1', 'education_1', 'education_3', 'education_4',\n",
      "       'hhs_geo_region_2', 'hhs_geo_region_3', 'hhs_geo_region_4',\n",
      "       'hhs_geo_region_5', 'hhs_geo_region_6', 'hhs_geo_region_7',\n",
      "       'hhs_geo_region_8', 'hhs_geo_region_9', 'hhs_geo_region_10'],\n",
      "      dtype='object')\n"
     ]
    }
   ],
   "source": [
    "# Print the selected features for H1N1 vaccine prediction\n",
    "print(selected_feat1)\n"
   ]
  },
  {
   "cell_type": "markdown",
   "metadata": {},
   "source": [
    "**Feature Specification**"
   ]
  },
  {
   "cell_type": "code",
   "execution_count": 51,
   "metadata": {},
   "outputs": [
    {
     "data": {
      "text/plain": [
       "((21365, 49), (5342, 49))"
      ]
     },
     "execution_count": 51,
     "metadata": {},
     "output_type": "execute_result"
    }
   ],
   "source": [
    "# Transform the training and test data for H1N1 vaccine prediction using selected features\n",
    "X1_train_sel = sel_1.transform(X1_train)\n",
    "X1_test_sel = sel_1.transform(X1_test)\n",
    "\n",
    "# Transform the training and test data for Seasonal Flu vaccine prediction using selected features\n",
    "X2_train_sel = sel_2.transform(X2_train)\n",
    "X2_test_sel = sel_2.transform(X2_test)\n",
    "\n",
    "# Display the shapes of the transformed data for H1N1 vaccine prediction\n",
    "X1_train_sel.shape, X1_test_sel.shape"
   ]
  },
  {
   "cell_type": "code",
   "execution_count": 52,
   "metadata": {},
   "outputs": [
    {
     "data": {
      "text/plain": [
       "((21365, 56), (5342, 56))"
      ]
     },
     "execution_count": 52,
     "metadata": {},
     "output_type": "execute_result"
    }
   ],
   "source": [
    "# Print the shapes of the original data for H1N1 vaccine prediction\n",
    "X1_train.shape, X1_test.shape"
   ]
  },
  {
   "cell_type": "code",
   "execution_count": 53,
   "metadata": {},
   "outputs": [
    {
     "data": {
      "text/plain": [
       "((21365, 50), (5342, 50))"
      ]
     },
     "execution_count": 53,
     "metadata": {},
     "output_type": "execute_result"
    }
   ],
   "source": [
    "# Print the shapes of the transformed data for Seasonal Flu vaccine prediction\n",
    "X2_train_sel.shape, X2_test_sel.shape"
   ]
  },
  {
   "cell_type": "code",
   "execution_count": 54,
   "metadata": {},
   "outputs": [
    {
     "data": {
      "text/plain": [
       "((21365, 56), (5342, 56))"
      ]
     },
     "execution_count": 54,
     "metadata": {},
     "output_type": "execute_result"
    }
   ],
   "source": [
    "# Print the shapes of the original data for Seasonal Flu vaccine prediction\n",
    "X2_train.shape, X2_test.shape"
   ]
  },
  {
   "cell_type": "markdown",
   "metadata": {},
   "source": [
    "## Modeling- H1N1\n",
    "\n",
    "**Logistic Regression**"
   ]
  },
  {
   "cell_type": "code",
   "execution_count": 55,
   "metadata": {},
   "outputs": [
    {
     "name": "stdout",
     "output_type": "stream",
     "text": [
      "Accuracy: 0.85\n",
      "Precision: 0.690\n",
      "Recall: 0.516\n",
      "F1 Score: 0.591\n",
      "Misclassified samples: 807\n",
      "ROC/AUC Score: 0.873\n"
     ]
    }
   ],
   "source": [
    "# Logistic Regression for H1N1 vaccine prediction\n",
    "lr = LogisticRegression()\n",
    "\n",
    "# Fit the model\n",
    "lrfit = lr.fit(X1_train_sel, y1_train)\n",
    "\n",
    "# Predict on the test set\n",
    "y_pred = lr.predict(X1_test_sel)\n",
    "\n",
    "# Print evaluation metrics\n",
    "print('Accuracy: %.2f' % lr.score(X1_test_sel, y1_test))\n",
    "print('Precision: %.3f' % precision_score(y_true=y1_test, y_pred=y_pred))\n",
    "print('Recall: %.3f' % recall_score(y_true=y1_test, y_pred=y_pred))\n",
    "print('F1 Score: %.3f' % f1_score(y_true=y1_test, y_pred=y_pred))\n",
    "print('Misclassified samples: %d' % (y1_test != y_pred).sum())\n",
    "print('ROC/AUC Score: %.3f' % roc_auc_score(y1_test, lrfit.predict_proba(X1_test_sel)[:, 1]))\n"
   ]
  },
  {
   "cell_type": "markdown",
   "metadata": {},
   "source": [
    "**Gradient Boosting**"
   ]
  },
  {
   "cell_type": "code",
   "execution_count": 56,
   "metadata": {},
   "outputs": [
    {
     "name": "stdout",
     "output_type": "stream",
     "text": [
      "Accuracy: 0.85\n",
      "Precision: 0.695\n",
      "Recall: 0.516\n",
      "F1 Score: 0.592\n",
      "Misclassified samples: 801\n",
      "ROC/AUC Score: 0.874\n"
     ]
    }
   ],
   "source": [
    "# Gradient Boosting for H1N1 vaccine prediction\n",
    "gradient_boosting_h1n1 = GradientBoostingClassifier(n_estimators=100, learning_rate=1.0,\n",
    "                                                    max_depth=1, random_state=0).fit(X1_train_sel, y1_train)\n",
    "\n",
    "# Predict on the test set\n",
    "gbc_y_pred = gradient_boosting_h1n1.predict(X1_test_sel)\n",
    "\n",
    "# Print evaluation metrics\n",
    "print('Accuracy: %.2f' % gradient_boosting_h1n1.score(X1_test_sel, y1_test))\n",
    "print('Precision: %.3f' % precision_score(y_true=y1_test, y_pred=gbc_y_pred))\n",
    "print('Recall: %.3f' % recall_score(y_true=y1_test, y_pred=gbc_y_pred))\n",
    "print('F1 Score: %.3f' % f1_score(y_true=y1_test, y_pred=gbc_y_pred))\n",
    "print('Misclassified samples: %d' % (y1_test != gbc_y_pred).sum())\n",
    "print('ROC/AUC Score: %.3f' % roc_auc_score(y1_test, gradient_boosting_h1n1.predict_proba(X1_test_sel)[:, 1]))\n"
   ]
  },
  {
   "cell_type": "markdown",
   "metadata": {},
   "source": [
    "**K-Nearest Neighbors**"
   ]
  },
  {
   "cell_type": "code",
   "execution_count": 57,
   "metadata": {},
   "outputs": [
    {
     "name": "stdout",
     "output_type": "stream",
     "text": [
      "Accuracy: 0.82\n",
      "Precision: 0.672\n",
      "Recall: 0.260\n",
      "F1 Score: 0.375\n",
      "Misclassified samples: 977\n",
      "ROC/AUC Score: 0.771\n"
     ]
    }
   ],
   "source": [
    "# K Nearest Neighbors for H1N1 vaccine prediction\n",
    "knn = KNeighborsClassifier(n_neighbors=10)\n",
    "kfit = knn.fit(X1_train_sel, y1_train)\n",
    "\n",
    "# Predict on the test set\n",
    "knn_y1_pred = knn.predict(X1_test_sel)\n",
    "\n",
    "# Print evaluation metrics\n",
    "print('Accuracy: %.2f' % knn.score(X1_test_sel, y1_test))\n",
    "print('Precision: %.3f' % precision_score(y_true=y1_test, y_pred=knn_y1_pred))\n",
    "print('Recall: %.3f' % recall_score(y_true=y1_test, y_pred=knn_y1_pred))\n",
    "print('F1 Score: %.3f' % f1_score(y_true=y1_test, y_pred=knn_y1_pred))\n",
    "print('Misclassified samples: %d' % (y1_test != knn_y1_pred).sum())\n",
    "print('ROC/AUC Score: %.3f' % roc_auc_score(y1_test, kfit.predict_proba(X1_test_sel)[:, 1]))\n"
   ]
  },
  {
   "cell_type": "markdown",
   "metadata": {},
   "source": [
    "**Decision Tree**"
   ]
  },
  {
   "cell_type": "code",
   "execution_count": 58,
   "metadata": {},
   "outputs": [
    {
     "name": "stdout",
     "output_type": "stream",
     "text": [
      "Accuracy: 0.83\n",
      "Precision: 0.626\n",
      "Recall: 0.514\n",
      "F1 Score: 0.564\n",
      "Misclassified samples: 894\n",
      "ROC/AUC Score: 0.807\n"
     ]
    }
   ],
   "source": [
    "# Decision Tree for H1N1 vaccine prediction\n",
    "dt = DecisionTreeClassifier(max_depth=10, random_state=123)\n",
    "dtfit = dt.fit(X1_train_sel, y1_train)\n",
    "\n",
    "# Predict on the test set\n",
    "dt_y_pred = dt.predict(X1_test_sel)\n",
    "\n",
    "# Print evaluation metrics\n",
    "print('Accuracy: %.2f' % dt.score(X1_test_sel, y1_test))\n",
    "print('Precision: %.3f' % precision_score(y_true=y1_test, y_pred=dt_y_pred))\n",
    "print('Recall: %.3f' % recall_score(y_true=y1_test, y_pred=dt_y_pred))\n",
    "print('F1 Score: %.3f' % f1_score(y_true=y1_test, y_pred=dt_y_pred))\n",
    "print('Misclassified samples: %d' % (y1_test != dt_y_pred).sum())\n",
    "print('ROC/AUC Score: %.3f' % roc_auc_score(y1_test, dtfit.predict_proba(X1_test_sel)[:, 1]))\n"
   ]
  },
  {
   "cell_type": "code",
   "execution_count": 59,
   "metadata": {},
   "outputs": [
    {
     "name": "stdout",
     "output_type": "stream",
     "text": [
      "Tuned Decision Tree Parameters: {'min_samples_leaf': 1, 'max_features': 9, 'max_depth': 7, 'criterion': 'entropy'}\n"
     ]
    }
   ],
   "source": [
    "# Define the parameter grid\n",
    "param_grid = {\n",
    "    \"max_depth\": [1, 2, 3, 4, 5, 6, 7, 8, 9],\n",
    "    \"max_features\": [1, 2, 3, 4, 5, 6, 7, 8, 9],\n",
    "    \"min_samples_leaf\": [1, 2, 3, 4, 5, 6, 7, 8, 9],\n",
    "    \"criterion\": [\"gini\", \"entropy\"]\n",
    "}\n",
    "\n",
    "# Create a DecisionTreeClassifier instance\n",
    "tree = DecisionTreeClassifier()\n",
    "\n",
    "# RandomizedSearchCV object: tree_cv\n",
    "tree_cv = RandomizedSearchCV(tree, param_distributions=param_grid, cv=10, n_iter=100, random_state=0)\n",
    "\n",
    "# Fit the RandomizedSearchCV to the data\n",
    "tree_cv.fit(X1_train_sel, y1_train)\n",
    "\n",
    "# Print the tuned parameters and best score\n",
    "print(\"Tuned Decision Tree Parameters: {}\".format(tree_cv.best_params_))\n"
   ]
  },
  {
   "cell_type": "code",
   "execution_count": 60,
   "metadata": {},
   "outputs": [
    {
     "name": "stdout",
     "output_type": "stream",
     "text": [
      "\n",
      "Accuracy 0.83\n",
      "Precision: 0.674\n",
      "Recall: 0.352\n",
      "F1: 0.463\n",
      "Misclassified samples: 922\n",
      "ROC/AUC Score: 0.824\n"
     ]
    }
   ],
   "source": [
    "# Create a DecisionTreeClassifier instance with tuned parameters\n",
    "dt_tuned = DecisionTreeClassifier(criterion='gini', max_depth=6, max_features=9, min_samples_leaf=1, random_state=123)\n",
    "\n",
    "# Fit the model on the training data\n",
    "dt_tuned.fit(X1_train_sel, y1_train)\n",
    "\n",
    "# Predict on the test data\n",
    "dt_y_pred_tuned = dt_tuned.predict(X1_test_sel)\n",
    "\n",
    "# Calculate and print evaluation metrics\n",
    "print()\n",
    "print('Accuracy %.2f' % dt_tuned.score(X1_test_sel, y1_test))\n",
    "print('Precision: %.3f' % precision_score(y_true=y1_test, y_pred=dt_y_pred_tuned))\n",
    "print('Recall: %.3f' % recall_score(y_true=y1_test, y_pred=dt_y_pred_tuned))\n",
    "print('F1: %.3f' % f1_score(y_true=y1_test, y_pred=dt_y_pred_tuned))\n",
    "print('Misclassified samples: %d' % (y1_test != dt_y_pred_tuned).sum())\n",
    "print('ROC/AUC Score: %.3f' % roc_auc_score(y1_test, dt_tuned.predict_proba(X1_test_sel)[:, 1]))\n"
   ]
  },
  {
   "cell_type": "markdown",
   "metadata": {},
   "source": [
    "**Voting Classifier Ensemble Modeling**"
   ]
  },
  {
   "cell_type": "code",
   "execution_count": 61,
   "metadata": {},
   "outputs": [
    {
     "name": "stdout",
     "output_type": "stream",
     "text": [
      "Accuracy 0.85\n",
      "Precision: 0.717\n",
      "Recall: 0.480\n",
      "F1: 0.575\n",
      "Misclassified samples: 800\n",
      "ROC/AUC Score: 0.851\n"
     ]
    }
   ],
   "source": [
    "# Define the KFold cross-validation\n",
    "kfold_vc = model_selection.KFold(n_splits=10, random_state=10, shuffle=True)\n",
    "\n",
    "# Define a list of estimators for the VotingClassifier\n",
    "estimators = [\n",
    "    ('logistic', LogisticRegression()),\n",
    "    ('knn', KNeighborsClassifier()),\n",
    "    ('gbc', GradientBoostingClassifier()),\n",
    "    ('rf', RandomForestClassifier()),\n",
    "    ('rfcv', RandomForestClassifier(min_samples_leaf=4, max_depth=19, random_state=123)),\n",
    "    ('dt', DecisionTreeClassifier(max_depth=10, random_state=123)),\n",
    "    ('dt2', DecisionTreeClassifier(criterion='gini', max_depth=6, max_features=9, min_samples_leaf=1, random_state=123))\n",
    "]\n",
    "\n",
    "# Create the VotingClassifier ensemble\n",
    "ensemble = VotingClassifier(estimators)\n",
    "\n",
    "# Perform cross-validation to evaluate the ensemble\n",
    "vc_roc_score = cross_val_score(ensemble, X1_train_sel, y1_train, cv=kfold_vc)\n",
    "results_vc = cross_val_score(ensemble, X1_train_sel, y1_train, cv=kfold_vc)\n",
    "\n",
    "# Fit the VotingClassifier on the training data\n",
    "vc = ensemble.fit(X1_train_sel, y1_train)\n",
    "\n",
    "# Predict on the test data\n",
    "vc_y_pred = vc.predict(X1_test_sel)\n",
    "\n",
    "# Calculate and print evaluation metrics\n",
    "print('Accuracy %.2f' % vc.score(X1_test_sel, y1_test))\n",
    "print('Precision: %.3f' % precision_score(y_true=y1_test, y_pred=vc_y_pred))\n",
    "print('Recall: %.3f' % recall_score(y_true=y1_test, y_pred=vc_y_pred))\n",
    "print('F1: %.3f' % f1_score(y_true=y1_test, y_pred=vc_y_pred))\n",
    "print('Misclassified samples: %d' % (y1_test != vc_y_pred).sum())\n",
    "print('ROC/AUC Score: %.3f' % np.mean(vc_roc_score))\n"
   ]
  },
  {
   "cell_type": "markdown",
   "metadata": {},
   "source": [
    "**Random Forest**"
   ]
  },
  {
   "cell_type": "code",
   "execution_count": 62,
   "metadata": {},
   "outputs": [
    {
     "name": "stdout",
     "output_type": "stream",
     "text": [
      "Accuracy 0.85\n",
      "Precision: 0.706\n",
      "Recall: 0.492\n",
      "F1: 0.579\n",
      "Misclassified samples: 804\n",
      "ROC/AUC Score: 0.870\n"
     ]
    }
   ],
   "source": [
    "# Random Forest Classifier\n",
    "rf = RandomForestClassifier(n_estimators=1000)\n",
    "\n",
    "# Fit the model on the training data\n",
    "rfit = rf.fit(X1_train_sel, y1_train)\n",
    "\n",
    "# Predict on the test data\n",
    "rf_y_pred = rf.predict(X1_test_sel)\n",
    "\n",
    "# Calculate and print evaluation metrics\n",
    "print('Accuracy %.2f' % rf.score(X1_test_sel, y1_test))\n",
    "print('Precision: %.3f' % precision_score(y_true=y1_test, y_pred=rf_y_pred))\n",
    "print('Recall: %.3f' % recall_score(y_true=y1_test, y_pred=rf_y_pred))\n",
    "print('F1: %.3f' % f1_score(y_true=y1_test, y_pred=rf_y_pred))\n",
    "print('Misclassified samples: %d' % (y1_test != rf_y_pred).sum())\n",
    "print('ROC/AUC Score: %.3f' % roc_auc_score(y1_test, rfit.predict_proba(X1_test_sel)[:, 1]))\n"
   ]
  },
  {
   "cell_type": "code",
   "execution_count": 63,
   "metadata": {},
   "outputs": [
    {
     "name": "stdout",
     "output_type": "stream",
     "text": [
      "Tuned Random Forest Parameters: {'min_samples_leaf': 4, 'max_depth': 19}\n"
     ]
    }
   ],
   "source": [
    "# Random Forest Classifier with Cross Validation\n",
    "param_dist_rf = {\n",
    "    \"max_depth\": [int(x) for x in np.linspace(1, 19, num=10)],\n",
    "    \"min_samples_leaf\": [1, 2, 4, 6]\n",
    "}\n",
    "\n",
    "# Random Forest Classifier object\n",
    "rf_model = RandomForestClassifier()\n",
    "\n",
    "# Randomized Search CV object\n",
    "rf_cv = RandomizedSearchCV(rf_model, param_distributions=param_dist_rf, cv=5, scoring='roc_auc', random_state=123, n_jobs=-1)\n",
    "\n",
    "# Fit the model on the training data\n",
    "rf_cv_fit = rf_cv.fit(X1_train_sel, y1_train)\n",
    "\n",
    "# Predict on the test data\n",
    "rf_y_pred = rf_cv_fit.predict(X1_test_sel)\n",
    "\n",
    "# Print the tuned parameters and score\n",
    "print(\"Tuned Random Forest Parameters: {}\".format(rf_cv_fit.best_params_))\n"
   ]
  },
  {
   "cell_type": "code",
   "execution_count": 64,
   "metadata": {},
   "outputs": [
    {
     "name": "stdout",
     "output_type": "stream",
     "text": [
      "Accuracy 0.87\n",
      "Precision: 0.715\n",
      "Recall: 0.453\n",
      "F1: 0.554\n",
      "Misclassified samples: 820\n",
      "ROC/AUC Score: 0.870\n"
     ]
    }
   ],
   "source": [
    "# Random Forest Classifier with Tuned Parameters and Cross Validation\n",
    "\n",
    "# Define the Random Forest model with tuned parameters\n",
    "rf_model1 = RandomForestClassifier(min_samples_leaf=4, max_depth=19, random_state=123)\n",
    "\n",
    "# Define the RandomizedSearchCV object with specified parameters\n",
    "rf_cv_model1 = RandomizedSearchCV(rf_model1, param_distributions=param_dist_rf, cv=10, scoring='roc_auc', random_state=123, n_jobs=-1)\n",
    "\n",
    "# Fit the RandomizedSearchCV model to the training data\n",
    "rf_cv_fit1 = rf_cv_model1.fit(X1_train_sel, y1_train)\n",
    "\n",
    "# Predict the target variable using the test data\n",
    "rf_y_pred1 = rf_cv_fit1.predict(X1_test_sel)\n",
    "\n",
    "# Print evaluation metrics\n",
    "print('Accuracy %.2f' % rf_cv_fit1.score(X1_test_sel, y1_test))\n",
    "print('Precision: %.3f' % precision_score(y_true=y1_test, y_pred=rf_y_pred1))\n",
    "print('Recall: %.3f' % recall_score(y_true=y1_test, y_pred=rf_y_pred1))\n",
    "print('F1: %.3f' % f1_score(y_true=y1_test, y_pred=rf_y_pred1))\n",
    "print('Misclassified samples: %d' % (y1_test != rf_y_pred1).sum())\n",
    "print('ROC/AUC Score: %.3f' % roc_auc_score(y1_test, rf_cv_fit1.predict_proba(X1_test_sel)[:, 1]))\n"
   ]
  },
  {
   "cell_type": "markdown",
   "metadata": {},
   "source": [
    "## Modeling - Seasonal Flu"
   ]
  },
  {
   "cell_type": "markdown",
   "metadata": {},
   "source": [
    "**Logistic Regression**"
   ]
  },
  {
   "cell_type": "code",
   "execution_count": 65,
   "metadata": {},
   "outputs": [
    {
     "name": "stdout",
     "output_type": "stream",
     "text": [
      "Accuracy 0.79\n",
      "Precision: 0.798\n",
      "Recall: 0.753\n",
      "F1: 0.775\n",
      "Misclassified samples: 1098\n",
      "ROC/AUC Score: 0.867\n"
     ]
    }
   ],
   "source": [
    "# Logistic Regression Evaluation\n",
    "\n",
    "# Instantiate Logistic Regression model\n",
    "lr_model = LogisticRegression()\n",
    "\n",
    "# Fit the model to the training data\n",
    "lr_fit = lr_model.fit(X2_train_sel, y2_train)\n",
    "\n",
    "# Predict the target variable using the test data\n",
    "y_pred_lr = lr_fit.predict(X2_test_sel)\n",
    "\n",
    "# Print evaluation metrics\n",
    "print('Accuracy %.2f' % lr_fit.score(X2_test_sel, y2_test))\n",
    "print('Precision: %.3f' % precision_score(y_true=y2_test, y_pred=y_pred_lr))\n",
    "print('Recall: %.3f' % recall_score(y_true=y2_test, y_pred=y_pred_lr))\n",
    "print('F1: %.3f' % f1_score(y_true=y2_test, y_pred=y_pred_lr))\n",
    "print('Misclassified samples: %d' % (y2_test != y_pred_lr).sum())\n",
    "print('ROC/AUC Score: %.3f'% roc_auc_score(y2_test, lr_fit.predict_proba(X2_test_sel)[:, 1]))\n"
   ]
  },
  {
   "cell_type": "markdown",
   "metadata": {},
   "source": [
    "**Gradient Boosting**"
   ]
  },
  {
   "cell_type": "code",
   "execution_count": 66,
   "metadata": {},
   "outputs": [
    {
     "name": "stdout",
     "output_type": "stream",
     "text": [
      "Accuracy 0.80\n",
      "Precision: 0.808\n",
      "Recall: 0.761\n",
      "F1: 0.784\n",
      "Misclassified samples: 1054\n",
      "ROC/AUC Score: 0.872\n"
     ]
    }
   ],
   "source": [
    "# Gradient Boosting Evaluation\n",
    "\n",
    "# Instantiate Gradient Boosting model\n",
    "gbc_model = GradientBoostingClassifier(n_estimators=100, learning_rate=1.0,\n",
    "                                       max_depth=1, random_state=0)\n",
    "\n",
    "# Fit the model to the training data\n",
    "gbc_fit = gbc_model.fit(X2_train_sel, y2_train)\n",
    "\n",
    "# Predict the target variable using the test data\n",
    "gbc_y_pred = gbc_fit.predict(X2_test_sel)\n",
    "\n",
    "# Print evaluation metrics\n",
    "print('Accuracy %.2f' % gbc_fit.score(X2_test_sel, y2_test))\n",
    "print('Precision: %.3f' % precision_score(y_true=y2_test, y_pred=gbc_y_pred))\n",
    "print('Recall: %.3f' % recall_score(y_true=y2_test, y_pred=gbc_y_pred))\n",
    "print('F1: %.3f' % f1_score(y_true=y2_test, y_pred=gbc_y_pred))\n",
    "print('Misclassified samples: %d' % (y2_test != gbc_y_pred).sum())\n",
    "print('ROC/AUC Score: %.3f'% roc_auc_score(y2_test, gbc_fit.predict_proba(X2_test_sel)[:, 1]))\n"
   ]
  },
  {
   "cell_type": "markdown",
   "metadata": {},
   "source": [
    "**Random Forest**"
   ]
  },
  {
   "cell_type": "code",
   "execution_count": 67,
   "metadata": {},
   "outputs": [
    {
     "name": "stdout",
     "output_type": "stream",
     "text": [
      "Accuracy 0.80\n",
      "Precision: 0.789\n",
      "Recall: 0.778\n",
      "F1: 0.783\n",
      "Misclassified samples: 1080\n",
      "ROC/AUC Score: 0.868\n"
     ]
    }
   ],
   "source": [
    "# Random Forest\n",
    "rf = RandomForestClassifier(n_estimators=1000)\n",
    "rffit = rf.fit(X2_train_sel, y2_train)\n",
    "rf_y_pred = rf.predict(X2_test_sel)\n",
    "\n",
    "# Print evaluation metrics\n",
    "print('Accuracy %.2f' % rf.score(X2_test_sel, y2_test))\n",
    "print('Precision: %.3f' % precision_score(y_true=y2_test, y_pred=rf_y_pred))\n",
    "print('Recall: %.3f' % recall_score(y_true=y2_test, y_pred=rf_y_pred))\n",
    "print('F1: %.3f' % f1_score(y_true=y2_test, y_pred=rf_y_pred))\n",
    "print('Misclassified samples: %d' % (y2_test != rf_y_pred).sum())\n",
    "print('ROC/AUC Score: %.3f' % roc_auc_score(y2_test, rffit.predict_proba(X2_test_sel)[:, 1]))"
   ]
  },
  {
   "cell_type": "code",
   "execution_count": 68,
   "metadata": {},
   "outputs": [
    {
     "name": "stdout",
     "output_type": "stream",
     "text": [
      "Tuned Random Forest Parameters: {'min_samples_leaf': 4, 'max_depth': 19}\n"
     ]
    }
   ],
   "source": [
    "# Random Forest with Cross Validation\n",
    "param_dist = {\n",
    "    \"max_depth\": [int(x) for x in np.linspace(1, 19, num=10)],\n",
    "    \"min_samples_leaf\": [1, 2, 4, 6],\n",
    "}\n",
    "\n",
    "# Initialize Random Forest classifier\n",
    "rf2 = RandomForestClassifier()\n",
    "\n",
    "# RandomizedSearchCV object: rf_cv2\n",
    "rf_cv2 = RandomizedSearchCV(rf2, param_distributions=param_dist, \n",
    "                            cv=10, scoring='roc_auc', random_state=123, n_jobs=-1)\n",
    "\n",
    "# Fit the model to the data\n",
    "rfcv2fit = rf_cv2.fit(X2_train_sel, y2_train)\n",
    "\n",
    "# Print the tuned parameters and score\n",
    "print(\"Tuned Random Forest Parameters: {}\".format(rfcv2fit.best_params_))"
   ]
  },
  {
   "cell_type": "code",
   "execution_count": 69,
   "metadata": {},
   "outputs": [
    {
     "name": "stdout",
     "output_type": "stream",
     "text": [
      "Accuracy 0.80\n",
      "Precision: 0.791\n",
      "Recall: 0.776\n",
      "F1: 0.784\n",
      "Misclassified samples: 1075\n",
      "ROC/AUC Score: 0.870\n"
     ]
    }
   ],
   "source": [
    "# Use the tuned parameters to train a new Random Forest model\n",
    "rf2 = RandomForestClassifier(**rfcv2fit.best_params_, random_state=123)\n",
    "rf2fit = rf2.fit(X2_train_sel, y2_train)\n",
    "rf_y_pred2 = rf2.predict(X2_test_sel)\n",
    "\n",
    "# Print evaluation metrics\n",
    "print('Accuracy %.2f' % rf2.score(X2_test_sel, y2_test))\n",
    "print('Precision: %.3f' % precision_score(y_true=y2_test, y_pred=rf_y_pred2))\n",
    "print('Recall: %.3f' % recall_score(y_true=y2_test, y_pred=rf_y_pred2))\n",
    "print('F1: %.3f' % f1_score(y_true=y2_test, y_pred=rf_y_pred2))\n",
    "print('Misclassified samples: %d' % (y2_test != rf_y_pred2).sum())\n",
    "print('ROC/AUC Score: %.3f' % roc_auc_score(y2_test, rfcv2fit.predict_proba(X2_test_sel)[:, 1]))"
   ]
  },
  {
   "cell_type": "markdown",
   "metadata": {},
   "source": [
    "**K-Nearest Neighbors**"
   ]
  },
  {
   "cell_type": "code",
   "execution_count": 70,
   "metadata": {},
   "outputs": [
    {
     "name": "stdout",
     "output_type": "stream",
     "text": [
      "Accuracy 0.73\n",
      "Precision: 0.775\n",
      "Recall: 0.593\n",
      "F1: 0.672\n",
      "Misclassified samples: 1452\n",
      "ROC/AUC Score: 0.799\n"
     ]
    }
   ],
   "source": [
    "# K Nearest Neighbors Evaluation\n",
    "\n",
    "# Instantiate K Nearest Neighbors model\n",
    "knn_model = KNeighborsClassifier(n_neighbors=10)\n",
    "\n",
    "# Fit the model to the training data\n",
    "kfit = knn_model.fit(X2_train_sel, y2_train)\n",
    "\n",
    "# Predict the target variable using the test data\n",
    "knn_y_pred = knn_model.predict(X2_test_sel)\n",
    "\n",
    "# Print evaluation metrics\n",
    "print('Accuracy %.2f' % knn_model.score(X2_test_sel, y2_test))\n",
    "print('Precision: %.3f' % precision_score(y_true=y2_test, y_pred=knn_y_pred))\n",
    "print('Recall: %.3f' % recall_score(y_true=y2_test, y_pred=knn_y_pred))\n",
    "print('F1: %.3f' % f1_score(y_true=y2_test, y_pred=knn_y_pred))\n",
    "print('Misclassified samples: %d' % (y2_test != knn_y_pred).sum())\n",
    "print('ROC/AUC Score: %.3f'% roc_auc_score(y2_test, kfit.predict_proba(X2_test_sel)[:, 1]))\n"
   ]
  },
  {
   "cell_type": "markdown",
   "metadata": {},
   "source": [
    "**Decision Tree**"
   ]
  },
  {
   "cell_type": "code",
   "execution_count": 71,
   "metadata": {},
   "outputs": [
    {
     "name": "stdout",
     "output_type": "stream",
     "text": [
      "Accuracy 0.77\n",
      "Precision: 0.770\n",
      "Recall: 0.726\n",
      "F1: 0.747\n",
      "Misclassified samples: 1231\n",
      "ROC/AUC Score: 0.821\n"
     ]
    }
   ],
   "source": [
    "# Instantiate Decision Tree model with specified parameters\n",
    "dt_model = DecisionTreeClassifier(max_depth=10, random_state=123)\n",
    "\n",
    "# Fit the model to the training data\n",
    "dtfit = dt_model.fit(X2_train_sel, y2_train)\n",
    "\n",
    "# Predict the target variable using the test data\n",
    "dt_y_pred = dt_model.predict(X2_test_sel)\n",
    "\n",
    "# Print evaluation metrics\n",
    "print('Accuracy %.2f' % dt_model.score(X2_test_sel, y2_test))\n",
    "print('Precision: %.3f' % precision_score(y_true=y2_test, y_pred=dt_y_pred))\n",
    "print('Recall: %.3f' % recall_score(y_true=y2_test, y_pred=dt_y_pred))\n",
    "print('F1: %.3f' % f1_score(y_true=y2_test, y_pred=dt_y_pred))\n",
    "print('Misclassified samples: %d' % (y2_test != dt_y_pred).sum())\n",
    "print('ROC/AUC Score: %.3f'% roc_auc_score(y2_test, dtfit.predict_proba(X2_test_sel)[:, 1]))\n"
   ]
  },
  {
   "cell_type": "code",
   "execution_count": 72,
   "metadata": {},
   "outputs": [
    {
     "name": "stdout",
     "output_type": "stream",
     "text": [
      "Tuned Decision Tree Parameters: {'min_samples_leaf': 9, 'max_features': 9, 'max_depth': 8, 'criterion': 'gini'}\n"
     ]
    }
   ],
   "source": [
    "# Randomized Search for Decision Tree Parameters\n",
    "param_dist = {\n",
    "    \"max_depth\": [1, 2, 3, 4, 5, 6, 7, 8, 9],\n",
    "    \"max_features\": [1, 2, 3, 4, 5, 6, 7, 8, 9],\n",
    "    \"min_samples_leaf\": [1, 2, 3, 4, 5, 6, 7, 8, 9],\n",
    "    \"criterion\": [\"gini\", \"entropy\"]\n",
    "}\n",
    "\n",
    "# Initialize Decision Tree model\n",
    "tree = DecisionTreeClassifier()\n",
    "\n",
    "# RandomizedSearchCV object: tree_cv\n",
    "tree_cv = RandomizedSearchCV(tree, param_distributions=param_dist, cv=10, n_iter=100, random_state=123)\n",
    "\n",
    "# Fit the model to the data\n",
    "tree_cv.fit(X2_train_sel, y2_train)\n",
    "\n",
    "# Print the tuned parameters and score\n",
    "print(\"Tuned Decision Tree Parameters: {}\".format(tree_cv.best_params_))\n",
    "\n"
   ]
  },
  {
   "cell_type": "code",
   "execution_count": 73,
   "metadata": {},
   "outputs": [
    {
     "name": "stdout",
     "output_type": "stream",
     "text": [
      "\n",
      "Accuracy 0.76\n",
      "Precision: 0.746\n",
      "Recall: 0.744\n",
      "F1: 0.745\n",
      "Misclassified samples: 1278\n",
      "ROC/AUC Score: 0.822\n"
     ]
    }
   ],
   "source": [
    "# Using the tuned decision tree parameters\n",
    "dt2 = DecisionTreeClassifier(**tree_cv.best_params_, random_state=123)\n",
    "dt2fit = dt2.fit(X2_train_sel, y2_train)\n",
    "dt_y_pred2 = dt2.predict(X2_test_sel)\n",
    "\n",
    "# Print evaluation metrics\n",
    "print()\n",
    "print('Accuracy %.2f' % dt2.score(X2_test_sel, y2_test))\n",
    "print('Precision: %.3f' % precision_score(y_true=y2_test, y_pred=dt_y_pred2))\n",
    "print('Recall: %.3f' % recall_score(y_true=y2_test, y_pred=dt_y_pred2))\n",
    "print('F1: %.3f' % f1_score(y_true=y2_test, y_pred=dt_y_pred2))\n",
    "print('Misclassified samples: %d' % (y2_test != dt_y_pred2).sum())\n",
    "print('ROC/AUC Score: %.3f' % roc_auc_score(y2_test, dt2fit.predict_proba(X2_test_sel)[:, 1]))\n"
   ]
  },
  {
   "cell_type": "markdown",
   "metadata": {},
   "source": [
    "**Voting Classifier Ensemble Modeling**"
   ]
  },
  {
   "cell_type": "code",
   "execution_count": 74,
   "metadata": {},
   "outputs": [
    {
     "name": "stdout",
     "output_type": "stream",
     "text": [
      "Accuracy 0.80\n",
      "Precision: 0.797\n",
      "Recall: 0.766\n",
      "F1: 0.781\n",
      "Misclassified samples: 1075\n",
      "ROC/AUC Score: 0.804\n"
     ]
    }
   ],
   "source": [
    "# Create a KFold object for cross-validation\n",
    "kfold_vc = model_selection.KFold(n_splits=10, random_state=10, shuffle=True)\n",
    "\n",
    "# Initialize a list to store the estimators\n",
    "estimators = []\n",
    "\n",
    "# Logistic Regression\n",
    "mod_lr = LogisticRegression()\n",
    "estimators.append(('logistic', mod_lr))\n",
    "\n",
    "# K Nearest Neighbors\n",
    "mod_knn = KNeighborsClassifier()\n",
    "estimators.append(('knn', mod_knn))\n",
    "\n",
    "# Random Forest\n",
    "mod_rf = RandomForestClassifier()\n",
    "estimators.append(('rf', mod_rf))\n",
    "\n",
    "# Random Forest with custom parameters\n",
    "mod_rfcv = RandomForestClassifier(min_samples_leaf=4, max_depth=19, random_state=123)\n",
    "estimators.append(('rfcv', mod_rfcv))\n",
    "\n",
    "# Gradient Boosting\n",
    "mod_gbc = GradientBoostingClassifier()\n",
    "estimators.append(('gbc', mod_gbc))\n",
    "\n",
    "# Decision Tree\n",
    "mod_dt = DecisionTreeClassifier(max_depth=10, random_state=123)\n",
    "estimators.append(('dt', mod_dt))\n",
    "\n",
    "# Decision Tree with custom parameters\n",
    "mod_dt2 = DecisionTreeClassifier(criterion='gini', max_depth=8, \n",
    "                                 max_features=8, min_samples_leaf=3, random_state=123)\n",
    "estimators.append(('dt2', mod_dt2))\n",
    "\n",
    "# Create a Voting Classifier with the list of estimators\n",
    "ensemble = VotingClassifier(estimators)\n",
    "\n",
    "# Perform cross-validation and calculate ROC/AUC score\n",
    "vc_roc_score = cross_val_score(ensemble, X2_train_sel, y2_train, cv=kfold_vc)\n",
    "results_vc = model_selection.cross_val_score(ensemble, X2_train_sel, y2_train, cv=kfold_vc)\n",
    "\n",
    "# Fit the Voting Classifier to the training data\n",
    "vc = ensemble.fit(X2_train_sel, y2_train)\n",
    "\n",
    "# Make predictions on the test set\n",
    "vc_y_pred = vc.predict(X2_test_sel)\n",
    "\n",
    "# Print evaluation metrics\n",
    "print('Accuracy %.2f' % vc.score(X2_test_sel, y2_test))\n",
    "print('Precision: %.3f' % precision_score(y_true=y2_test, y_pred=vc_y_pred))\n",
    "print('Recall: %.3f' % recall_score(y_true=y2_test, y_pred=vc_y_pred))\n",
    "print('F1: %.3f' % f1_score(y_true=y2_test, y_pred=vc_y_pred))\n",
    "print('Misclassified samples: %d' % (y2_test != vc_y_pred).sum())\n",
    "print('ROC/AUC Score: %.3f' % np.mean(vc_roc_score))\n"
   ]
  },
  {
   "cell_type": "markdown",
   "metadata": {},
   "source": [
    "## Evaluation"
   ]
  },
  {
   "cell_type": "markdown",
   "metadata": {},
   "source": [
    "**Best Model**\n",
    "\n",
    "This analysis opted to delve into the efficacy of different predictive models concerning both the H1N1 Vaccine and Seasonal Flu Vaccine. To gauge their performance, it considered a range of metrics including Accuracy, Precision, Recall, Misclassified Samples, and the ROC/AUC scores. For the prediction of the H1N1 Vaccine specifically, considerable emphasis was placed on the ROC/AUC score due to its ability to handle imbalanced datasets. This focus stems from the observation that instances of H1N1 vaccine refusal significantly outnumber those of acceptance, with the former nearly quadrupling the latter in frequency within the dataset. This imbalance underscores the importance of a metric that can accommodate such disparities, thus the preference for ROC/AUC. \n",
    "\n",
    "Despite the utilization of ensemble modeling techniques, wherein multiple models are combined to enhance predictive power, it was discovered that individual models often outperform the ensemble in terms of predictive accuracy. This finding has raised concerns regarding the potential for overfitting in practical application scenarios. Overfitting occurs when a model learns the training data too well, capturing noise or random fluctuations, which may lead to poor generalization on unseen data. While ensemble models typically aim to mitigate overfitting by combining diverse models, the results of my analysis suggest that in this particular context, the individual models may offer more reliable predictions. As such, while the ensemble approach remains a valuable tool in predictive modeling, its efficacy in the context of H1N1 Vaccine prediction warrants further investigation and refinement to address potential overfitting concerns."
   ]
  },
  {
   "cell_type": "markdown",
   "metadata": {},
   "source": [
    "**H1N1 Vaccine**\n",
    "\n",
    "Upon evaluating various models for predicting H1N1 Vaccine acceptance, it became evident that both Logistic Regression and Gradient Boosting exhibited remarkable performance across multiple metrics, boasting high accuracy, precision, recall, and ROC/AUC scores. Notably, the Random Forest model yielded comparable results across all metrics despite its simplicity compared to more complex models like Logistic Regression and Gradient Boosting. Intriguingly, the accuracy score for the Random Forest (with Tuned Parameters and Cross Validation) model stood out, reaching an impressive value of 0.87. This finding underscores the efficacy of the Decision Tree approach in accurately predicting respondents' likelihood of H1N1 Vaccine acceptance. As such, based on a comprehensive assessment of model performance, it has been determined the Random Forest model with Cross Validation to be the optimal choice for this predictive task."
   ]
  },
  {
   "cell_type": "markdown",
   "metadata": {},
   "source": [
    "**Seasonal Flu Vaccine**\n",
    "\n",
    "Upon reviewing the performance of various models for predicting Seasonal Flu Vaccine acceptance, it's apparent that both the Logistic Regression and Gradient Boosting models displayed commendable results across key evaluation metrics, including accuracy, precision, recall, and ROC/AUC scores. While these models demonstrated robustness in their predictive capabilities, it's noteworthy that the Random Forest model, particularly when optimized using GridSearchCV, exhibited slightly superior performance across all assessment metrics. Despite the close competition between the Logistic Regression, Gradient Boosting, and Random Forest models, the Random Forest model with cross-validation (CV) emerged as the top performer for predicting Seasonal Flu Vaccine acceptance. As such, based on its overall performance superiority, it has been concluded that the Random Forest (CV) model presents the most reliable approach for determining whether a respondent is likely to receive the Seasonal Flu Vaccine."
   ]
  },
  {
   "cell_type": "markdown",
   "metadata": {},
   "source": [
    "## Conclusion"
   ]
  },
  {
   "cell_type": "markdown",
   "metadata": {},
   "source": [
    "The analysis of predictive models for H1N1 Vaccine and Seasonal Flu Vaccine acceptance reveals valuable insights into public health challenges. By utilizing past immunization survey data and various supervised learning algorithms, vaccine acceptance likelihood was assessed based on demographics. While ensemble modeling initially seemed promising, individual models often outperformed, raising concerns about overfitting. The Decision Tree (original) model excelled for H1N1 Vaccine prediction, while the Random Forest (CV) model showed superior performance for Seasonal Flu Vaccine prediction. These findings highlight the importance of tailored modeling techniques and the potential of predictive analytics to inform public health decisions. However, external factors like the COVID-19 pandemic may influence vaccine acceptance rates, necessitating ongoing model refinement. Overall, predictive modeling offers opportunities to optimize resource allocation, mitigate costs, and enhance intervention strategies for improved public health outcomes."
   ]
  }
 ],
 "metadata": {
  "kernelspec": {
   "display_name": "learn-env",
   "language": "python",
   "name": "python3"
  },
  "language_info": {
   "codemirror_mode": {
    "name": "ipython",
    "version": 3
   },
   "file_extension": ".py",
   "mimetype": "text/x-python",
   "name": "python",
   "nbconvert_exporter": "python",
   "pygments_lexer": "ipython3",
   "version": "3.11.5"
  }
 },
 "nbformat": 4,
 "nbformat_minor": 2
}
